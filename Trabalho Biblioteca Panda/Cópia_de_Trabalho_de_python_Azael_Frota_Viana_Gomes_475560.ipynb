{
  "nbformat": 4,
  "nbformat_minor": 0,
  "metadata": {
    "colab": {
      "provenance": []
    },
    "kernelspec": {
      "name": "python3",
      "display_name": "Python 3"
    },
    "language_info": {
      "name": "python"
    }
  },
  "cells": [
    {
      "cell_type": "markdown",
      "metadata": {
        "id": "Dyt_5LTuSHFb"
      },
      "source": [
        "Nome: Azael Frota Viana Gomes\n",
        "Matrícula: 475560\n",
        "\n"
      ]
    },
    {
      "cell_type": "markdown",
      "metadata": {
        "id": "7HNI3VZG61sQ"
      },
      "source": [
        "Link para este COLAB: https://colab.research.google.com/drive/1S49x2_XDgcqAoRgCF153dxAR0SUPMDww?usp=sharing"
      ]
    },
    {
      "cell_type": "markdown",
      "metadata": {
        "id": "d7XBEjrCS5-N"
      },
      "source": [
        "Importando as bibliotecas\n",
        "Os imports por convenção são colocados na primeira célula"
      ]
    },
    {
      "cell_type": "code",
      "metadata": {
        "id": "jYJeeuMHTGLL"
      },
      "source": [
        "import pandas as pd"
      ],
      "execution_count": null,
      "outputs": []
    },
    {
      "cell_type": "markdown",
      "metadata": {
        "id": "PSs4qPWZTXlK"
      },
      "source": [
        "Importando o data set nba"
      ]
    },
    {
      "cell_type": "code",
      "metadata": {
        "colab": {
          "base_uri": "https://localhost:8080/",
          "height": 444
        },
        "id": "zwnAkU1XTbRS",
        "outputId": "60bc3b7d-b91b-4480-fb81-e3b324edc8a8"
      },
      "source": [
        "dados_nba = pd.read_csv('https://raw.githubusercontent.com/fivethirtyeight/data/master/nba-elo/nbaallelo.csv')\n",
        "dados_nba"
      ],
      "execution_count": null,
      "outputs": [
        {
          "output_type": "execute_result",
          "data": {
            "text/html": [
              "<div>\n",
              "<style scoped>\n",
              "    .dataframe tbody tr th:only-of-type {\n",
              "        vertical-align: middle;\n",
              "    }\n",
              "\n",
              "    .dataframe tbody tr th {\n",
              "        vertical-align: top;\n",
              "    }\n",
              "\n",
              "    .dataframe thead th {\n",
              "        text-align: right;\n",
              "    }\n",
              "</style>\n",
              "<table border=\"1\" class=\"dataframe\">\n",
              "  <thead>\n",
              "    <tr style=\"text-align: right;\">\n",
              "      <th></th>\n",
              "      <th>gameorder</th>\n",
              "      <th>game_id</th>\n",
              "      <th>lg_id</th>\n",
              "      <th>_iscopy</th>\n",
              "      <th>year_id</th>\n",
              "      <th>date_game</th>\n",
              "      <th>seasongame</th>\n",
              "      <th>is_playoffs</th>\n",
              "      <th>team_id</th>\n",
              "      <th>fran_id</th>\n",
              "      <th>pts</th>\n",
              "      <th>elo_i</th>\n",
              "      <th>elo_n</th>\n",
              "      <th>win_equiv</th>\n",
              "      <th>opp_id</th>\n",
              "      <th>opp_fran</th>\n",
              "      <th>opp_pts</th>\n",
              "      <th>opp_elo_i</th>\n",
              "      <th>opp_elo_n</th>\n",
              "      <th>game_location</th>\n",
              "      <th>game_result</th>\n",
              "      <th>forecast</th>\n",
              "      <th>notes</th>\n",
              "    </tr>\n",
              "  </thead>\n",
              "  <tbody>\n",
              "    <tr>\n",
              "      <th>0</th>\n",
              "      <td>1</td>\n",
              "      <td>194611010TRH</td>\n",
              "      <td>NBA</td>\n",
              "      <td>0</td>\n",
              "      <td>1947</td>\n",
              "      <td>11/1/1946</td>\n",
              "      <td>1</td>\n",
              "      <td>0</td>\n",
              "      <td>TRH</td>\n",
              "      <td>Huskies</td>\n",
              "      <td>66</td>\n",
              "      <td>1300.0000</td>\n",
              "      <td>1293.2767</td>\n",
              "      <td>40.294830</td>\n",
              "      <td>NYK</td>\n",
              "      <td>Knicks</td>\n",
              "      <td>68</td>\n",
              "      <td>1300.0000</td>\n",
              "      <td>1306.7233</td>\n",
              "      <td>H</td>\n",
              "      <td>L</td>\n",
              "      <td>0.640065</td>\n",
              "      <td>NaN</td>\n",
              "    </tr>\n",
              "    <tr>\n",
              "      <th>1</th>\n",
              "      <td>1</td>\n",
              "      <td>194611010TRH</td>\n",
              "      <td>NBA</td>\n",
              "      <td>1</td>\n",
              "      <td>1947</td>\n",
              "      <td>11/1/1946</td>\n",
              "      <td>1</td>\n",
              "      <td>0</td>\n",
              "      <td>NYK</td>\n",
              "      <td>Knicks</td>\n",
              "      <td>68</td>\n",
              "      <td>1300.0000</td>\n",
              "      <td>1306.7233</td>\n",
              "      <td>41.705170</td>\n",
              "      <td>TRH</td>\n",
              "      <td>Huskies</td>\n",
              "      <td>66</td>\n",
              "      <td>1300.0000</td>\n",
              "      <td>1293.2767</td>\n",
              "      <td>A</td>\n",
              "      <td>W</td>\n",
              "      <td>0.359935</td>\n",
              "      <td>NaN</td>\n",
              "    </tr>\n",
              "    <tr>\n",
              "      <th>2</th>\n",
              "      <td>2</td>\n",
              "      <td>194611020CHS</td>\n",
              "      <td>NBA</td>\n",
              "      <td>0</td>\n",
              "      <td>1947</td>\n",
              "      <td>11/2/1946</td>\n",
              "      <td>1</td>\n",
              "      <td>0</td>\n",
              "      <td>CHS</td>\n",
              "      <td>Stags</td>\n",
              "      <td>63</td>\n",
              "      <td>1300.0000</td>\n",
              "      <td>1309.6521</td>\n",
              "      <td>42.012257</td>\n",
              "      <td>NYK</td>\n",
              "      <td>Knicks</td>\n",
              "      <td>47</td>\n",
              "      <td>1306.7233</td>\n",
              "      <td>1297.0712</td>\n",
              "      <td>H</td>\n",
              "      <td>W</td>\n",
              "      <td>0.631101</td>\n",
              "      <td>NaN</td>\n",
              "    </tr>\n",
              "    <tr>\n",
              "      <th>3</th>\n",
              "      <td>2</td>\n",
              "      <td>194611020CHS</td>\n",
              "      <td>NBA</td>\n",
              "      <td>1</td>\n",
              "      <td>1947</td>\n",
              "      <td>11/2/1946</td>\n",
              "      <td>2</td>\n",
              "      <td>0</td>\n",
              "      <td>NYK</td>\n",
              "      <td>Knicks</td>\n",
              "      <td>47</td>\n",
              "      <td>1306.7233</td>\n",
              "      <td>1297.0712</td>\n",
              "      <td>40.692783</td>\n",
              "      <td>CHS</td>\n",
              "      <td>Stags</td>\n",
              "      <td>63</td>\n",
              "      <td>1300.0000</td>\n",
              "      <td>1309.6521</td>\n",
              "      <td>A</td>\n",
              "      <td>L</td>\n",
              "      <td>0.368899</td>\n",
              "      <td>NaN</td>\n",
              "    </tr>\n",
              "    <tr>\n",
              "      <th>4</th>\n",
              "      <td>3</td>\n",
              "      <td>194611020DTF</td>\n",
              "      <td>NBA</td>\n",
              "      <td>0</td>\n",
              "      <td>1947</td>\n",
              "      <td>11/2/1946</td>\n",
              "      <td>1</td>\n",
              "      <td>0</td>\n",
              "      <td>DTF</td>\n",
              "      <td>Falcons</td>\n",
              "      <td>33</td>\n",
              "      <td>1300.0000</td>\n",
              "      <td>1279.6189</td>\n",
              "      <td>38.864048</td>\n",
              "      <td>WSC</td>\n",
              "      <td>Capitols</td>\n",
              "      <td>50</td>\n",
              "      <td>1300.0000</td>\n",
              "      <td>1320.3811</td>\n",
              "      <td>H</td>\n",
              "      <td>L</td>\n",
              "      <td>0.640065</td>\n",
              "      <td>NaN</td>\n",
              "    </tr>\n",
              "    <tr>\n",
              "      <th>...</th>\n",
              "      <td>...</td>\n",
              "      <td>...</td>\n",
              "      <td>...</td>\n",
              "      <td>...</td>\n",
              "      <td>...</td>\n",
              "      <td>...</td>\n",
              "      <td>...</td>\n",
              "      <td>...</td>\n",
              "      <td>...</td>\n",
              "      <td>...</td>\n",
              "      <td>...</td>\n",
              "      <td>...</td>\n",
              "      <td>...</td>\n",
              "      <td>...</td>\n",
              "      <td>...</td>\n",
              "      <td>...</td>\n",
              "      <td>...</td>\n",
              "      <td>...</td>\n",
              "      <td>...</td>\n",
              "      <td>...</td>\n",
              "      <td>...</td>\n",
              "      <td>...</td>\n",
              "      <td>...</td>\n",
              "    </tr>\n",
              "    <tr>\n",
              "      <th>126309</th>\n",
              "      <td>63155</td>\n",
              "      <td>201506110CLE</td>\n",
              "      <td>NBA</td>\n",
              "      <td>0</td>\n",
              "      <td>2015</td>\n",
              "      <td>6/11/2015</td>\n",
              "      <td>100</td>\n",
              "      <td>1</td>\n",
              "      <td>CLE</td>\n",
              "      <td>Cavaliers</td>\n",
              "      <td>82</td>\n",
              "      <td>1723.4149</td>\n",
              "      <td>1704.3949</td>\n",
              "      <td>60.309792</td>\n",
              "      <td>GSW</td>\n",
              "      <td>Warriors</td>\n",
              "      <td>103</td>\n",
              "      <td>1790.9591</td>\n",
              "      <td>1809.9791</td>\n",
              "      <td>H</td>\n",
              "      <td>L</td>\n",
              "      <td>0.546572</td>\n",
              "      <td>NaN</td>\n",
              "    </tr>\n",
              "    <tr>\n",
              "      <th>126310</th>\n",
              "      <td>63156</td>\n",
              "      <td>201506140GSW</td>\n",
              "      <td>NBA</td>\n",
              "      <td>0</td>\n",
              "      <td>2015</td>\n",
              "      <td>6/14/2015</td>\n",
              "      <td>102</td>\n",
              "      <td>1</td>\n",
              "      <td>GSW</td>\n",
              "      <td>Warriors</td>\n",
              "      <td>104</td>\n",
              "      <td>1809.9791</td>\n",
              "      <td>1813.6349</td>\n",
              "      <td>68.013329</td>\n",
              "      <td>CLE</td>\n",
              "      <td>Cavaliers</td>\n",
              "      <td>91</td>\n",
              "      <td>1704.3949</td>\n",
              "      <td>1700.7391</td>\n",
              "      <td>H</td>\n",
              "      <td>W</td>\n",
              "      <td>0.765565</td>\n",
              "      <td>NaN</td>\n",
              "    </tr>\n",
              "    <tr>\n",
              "      <th>126311</th>\n",
              "      <td>63156</td>\n",
              "      <td>201506140GSW</td>\n",
              "      <td>NBA</td>\n",
              "      <td>1</td>\n",
              "      <td>2015</td>\n",
              "      <td>6/14/2015</td>\n",
              "      <td>101</td>\n",
              "      <td>1</td>\n",
              "      <td>CLE</td>\n",
              "      <td>Cavaliers</td>\n",
              "      <td>91</td>\n",
              "      <td>1704.3949</td>\n",
              "      <td>1700.7391</td>\n",
              "      <td>60.010067</td>\n",
              "      <td>GSW</td>\n",
              "      <td>Warriors</td>\n",
              "      <td>104</td>\n",
              "      <td>1809.9791</td>\n",
              "      <td>1813.6349</td>\n",
              "      <td>A</td>\n",
              "      <td>L</td>\n",
              "      <td>0.234435</td>\n",
              "      <td>NaN</td>\n",
              "    </tr>\n",
              "    <tr>\n",
              "      <th>126312</th>\n",
              "      <td>63157</td>\n",
              "      <td>201506170CLE</td>\n",
              "      <td>NBA</td>\n",
              "      <td>0</td>\n",
              "      <td>2015</td>\n",
              "      <td>6/16/2015</td>\n",
              "      <td>102</td>\n",
              "      <td>1</td>\n",
              "      <td>CLE</td>\n",
              "      <td>Cavaliers</td>\n",
              "      <td>97</td>\n",
              "      <td>1700.7391</td>\n",
              "      <td>1692.0859</td>\n",
              "      <td>59.290245</td>\n",
              "      <td>GSW</td>\n",
              "      <td>Warriors</td>\n",
              "      <td>105</td>\n",
              "      <td>1813.6349</td>\n",
              "      <td>1822.2881</td>\n",
              "      <td>H</td>\n",
              "      <td>L</td>\n",
              "      <td>0.481450</td>\n",
              "      <td>NaN</td>\n",
              "    </tr>\n",
              "    <tr>\n",
              "      <th>126313</th>\n",
              "      <td>63157</td>\n",
              "      <td>201506170CLE</td>\n",
              "      <td>NBA</td>\n",
              "      <td>1</td>\n",
              "      <td>2015</td>\n",
              "      <td>6/16/2015</td>\n",
              "      <td>103</td>\n",
              "      <td>1</td>\n",
              "      <td>GSW</td>\n",
              "      <td>Warriors</td>\n",
              "      <td>105</td>\n",
              "      <td>1813.6349</td>\n",
              "      <td>1822.2881</td>\n",
              "      <td>68.519516</td>\n",
              "      <td>CLE</td>\n",
              "      <td>Cavaliers</td>\n",
              "      <td>97</td>\n",
              "      <td>1700.7391</td>\n",
              "      <td>1692.0859</td>\n",
              "      <td>A</td>\n",
              "      <td>W</td>\n",
              "      <td>0.518550</td>\n",
              "      <td>NaN</td>\n",
              "    </tr>\n",
              "  </tbody>\n",
              "</table>\n",
              "<p>126314 rows × 23 columns</p>\n",
              "</div>"
            ],
            "text/plain": [
              "        gameorder       game_id lg_id  ...  game_result  forecast notes\n",
              "0               1  194611010TRH   NBA  ...            L  0.640065   NaN\n",
              "1               1  194611010TRH   NBA  ...            W  0.359935   NaN\n",
              "2               2  194611020CHS   NBA  ...            W  0.631101   NaN\n",
              "3               2  194611020CHS   NBA  ...            L  0.368899   NaN\n",
              "4               3  194611020DTF   NBA  ...            L  0.640065   NaN\n",
              "...           ...           ...   ...  ...          ...       ...   ...\n",
              "126309      63155  201506110CLE   NBA  ...            L  0.546572   NaN\n",
              "126310      63156  201506140GSW   NBA  ...            W  0.765565   NaN\n",
              "126311      63156  201506140GSW   NBA  ...            L  0.234435   NaN\n",
              "126312      63157  201506170CLE   NBA  ...            L  0.481450   NaN\n",
              "126313      63157  201506170CLE   NBA  ...            W  0.518550   NaN\n",
              "\n",
              "[126314 rows x 23 columns]"
            ]
          },
          "metadata": {},
          "execution_count": 2
        }
      ]
    },
    {
      "cell_type": "markdown",
      "metadata": {
        "id": "_dC5Tz1STzi8"
      },
      "source": [
        "Comando head"
      ]
    },
    {
      "cell_type": "code",
      "metadata": {
        "colab": {
          "base_uri": "https://localhost:8080/"
        },
        "id": "_0cj8X01T2cH",
        "outputId": "1c19013b-95d4-44de-cb92-08f9b8934f6d"
      },
      "source": [
        "type(dados_nba)"
      ],
      "execution_count": null,
      "outputs": [
        {
          "output_type": "execute_result",
          "data": {
            "text/plain": [
              "pandas.core.frame.DataFrame"
            ]
          },
          "metadata": {},
          "execution_count": 3
        }
      ]
    },
    {
      "cell_type": "markdown",
      "metadata": {
        "id": "imOPCVmMUrV1"
      },
      "source": [
        "Qual o tamanho de dados há em dados_nba e colunas respectivamente\n",
        "\n"
      ]
    },
    {
      "cell_type": "code",
      "metadata": {
        "colab": {
          "base_uri": "https://localhost:8080/"
        },
        "id": "_QkFOmnyUxfx",
        "outputId": "b1313e40-3ee5-4623-d92c-a3b1745d27e8"
      },
      "source": [
        "len(dados_nba)"
      ],
      "execution_count": null,
      "outputs": [
        {
          "output_type": "execute_result",
          "data": {
            "text/plain": [
              "126314"
            ]
          },
          "metadata": {},
          "execution_count": 4
        }
      ]
    },
    {
      "cell_type": "code",
      "metadata": {
        "colab": {
          "base_uri": "https://localhost:8080/"
        },
        "id": "g0oUGS_TVG9e",
        "outputId": "7d52dc7b-7047-4313-db82-5ac90ea0b7bd"
      },
      "source": [
        "dados_nba.shape"
      ],
      "execution_count": null,
      "outputs": [
        {
          "output_type": "execute_result",
          "data": {
            "text/plain": [
              "(126314, 23)"
            ]
          },
          "metadata": {},
          "execution_count": 5
        }
      ]
    },
    {
      "cell_type": "markdown",
      "metadata": {
        "id": "T1L227uYVcgo"
      },
      "source": [
        "Para descobrir realmete se os dados batem com a descrição usamós o comando head() para visualizar algumas linha de dados"
      ]
    },
    {
      "cell_type": "code",
      "metadata": {
        "colab": {
          "base_uri": "https://localhost:8080/",
          "height": 226
        },
        "id": "Q5OWEAfMVbir",
        "outputId": "87a2f47b-f665-4a6a-e463-f81f59e74ef3"
      },
      "source": [
        "dados_nba.head()"
      ],
      "execution_count": null,
      "outputs": [
        {
          "output_type": "execute_result",
          "data": {
            "text/html": [
              "<div>\n",
              "<style scoped>\n",
              "    .dataframe tbody tr th:only-of-type {\n",
              "        vertical-align: middle;\n",
              "    }\n",
              "\n",
              "    .dataframe tbody tr th {\n",
              "        vertical-align: top;\n",
              "    }\n",
              "\n",
              "    .dataframe thead th {\n",
              "        text-align: right;\n",
              "    }\n",
              "</style>\n",
              "<table border=\"1\" class=\"dataframe\">\n",
              "  <thead>\n",
              "    <tr style=\"text-align: right;\">\n",
              "      <th></th>\n",
              "      <th>gameorder</th>\n",
              "      <th>game_id</th>\n",
              "      <th>lg_id</th>\n",
              "      <th>_iscopy</th>\n",
              "      <th>year_id</th>\n",
              "      <th>date_game</th>\n",
              "      <th>seasongame</th>\n",
              "      <th>is_playoffs</th>\n",
              "      <th>team_id</th>\n",
              "      <th>fran_id</th>\n",
              "      <th>pts</th>\n",
              "      <th>elo_i</th>\n",
              "      <th>elo_n</th>\n",
              "      <th>win_equiv</th>\n",
              "      <th>opp_id</th>\n",
              "      <th>opp_fran</th>\n",
              "      <th>opp_pts</th>\n",
              "      <th>opp_elo_i</th>\n",
              "      <th>opp_elo_n</th>\n",
              "      <th>game_location</th>\n",
              "      <th>game_result</th>\n",
              "      <th>forecast</th>\n",
              "      <th>notes</th>\n",
              "    </tr>\n",
              "  </thead>\n",
              "  <tbody>\n",
              "    <tr>\n",
              "      <th>0</th>\n",
              "      <td>1</td>\n",
              "      <td>194611010TRH</td>\n",
              "      <td>NBA</td>\n",
              "      <td>0</td>\n",
              "      <td>1947</td>\n",
              "      <td>11/1/1946</td>\n",
              "      <td>1</td>\n",
              "      <td>0</td>\n",
              "      <td>TRH</td>\n",
              "      <td>Huskies</td>\n",
              "      <td>66</td>\n",
              "      <td>1300.0000</td>\n",
              "      <td>1293.2767</td>\n",
              "      <td>40.294830</td>\n",
              "      <td>NYK</td>\n",
              "      <td>Knicks</td>\n",
              "      <td>68</td>\n",
              "      <td>1300.0000</td>\n",
              "      <td>1306.7233</td>\n",
              "      <td>H</td>\n",
              "      <td>L</td>\n",
              "      <td>0.640065</td>\n",
              "      <td>NaN</td>\n",
              "    </tr>\n",
              "    <tr>\n",
              "      <th>1</th>\n",
              "      <td>1</td>\n",
              "      <td>194611010TRH</td>\n",
              "      <td>NBA</td>\n",
              "      <td>1</td>\n",
              "      <td>1947</td>\n",
              "      <td>11/1/1946</td>\n",
              "      <td>1</td>\n",
              "      <td>0</td>\n",
              "      <td>NYK</td>\n",
              "      <td>Knicks</td>\n",
              "      <td>68</td>\n",
              "      <td>1300.0000</td>\n",
              "      <td>1306.7233</td>\n",
              "      <td>41.705170</td>\n",
              "      <td>TRH</td>\n",
              "      <td>Huskies</td>\n",
              "      <td>66</td>\n",
              "      <td>1300.0000</td>\n",
              "      <td>1293.2767</td>\n",
              "      <td>A</td>\n",
              "      <td>W</td>\n",
              "      <td>0.359935</td>\n",
              "      <td>NaN</td>\n",
              "    </tr>\n",
              "    <tr>\n",
              "      <th>2</th>\n",
              "      <td>2</td>\n",
              "      <td>194611020CHS</td>\n",
              "      <td>NBA</td>\n",
              "      <td>0</td>\n",
              "      <td>1947</td>\n",
              "      <td>11/2/1946</td>\n",
              "      <td>1</td>\n",
              "      <td>0</td>\n",
              "      <td>CHS</td>\n",
              "      <td>Stags</td>\n",
              "      <td>63</td>\n",
              "      <td>1300.0000</td>\n",
              "      <td>1309.6521</td>\n",
              "      <td>42.012257</td>\n",
              "      <td>NYK</td>\n",
              "      <td>Knicks</td>\n",
              "      <td>47</td>\n",
              "      <td>1306.7233</td>\n",
              "      <td>1297.0712</td>\n",
              "      <td>H</td>\n",
              "      <td>W</td>\n",
              "      <td>0.631101</td>\n",
              "      <td>NaN</td>\n",
              "    </tr>\n",
              "    <tr>\n",
              "      <th>3</th>\n",
              "      <td>2</td>\n",
              "      <td>194611020CHS</td>\n",
              "      <td>NBA</td>\n",
              "      <td>1</td>\n",
              "      <td>1947</td>\n",
              "      <td>11/2/1946</td>\n",
              "      <td>2</td>\n",
              "      <td>0</td>\n",
              "      <td>NYK</td>\n",
              "      <td>Knicks</td>\n",
              "      <td>47</td>\n",
              "      <td>1306.7233</td>\n",
              "      <td>1297.0712</td>\n",
              "      <td>40.692783</td>\n",
              "      <td>CHS</td>\n",
              "      <td>Stags</td>\n",
              "      <td>63</td>\n",
              "      <td>1300.0000</td>\n",
              "      <td>1309.6521</td>\n",
              "      <td>A</td>\n",
              "      <td>L</td>\n",
              "      <td>0.368899</td>\n",
              "      <td>NaN</td>\n",
              "    </tr>\n",
              "    <tr>\n",
              "      <th>4</th>\n",
              "      <td>3</td>\n",
              "      <td>194611020DTF</td>\n",
              "      <td>NBA</td>\n",
              "      <td>0</td>\n",
              "      <td>1947</td>\n",
              "      <td>11/2/1946</td>\n",
              "      <td>1</td>\n",
              "      <td>0</td>\n",
              "      <td>DTF</td>\n",
              "      <td>Falcons</td>\n",
              "      <td>33</td>\n",
              "      <td>1300.0000</td>\n",
              "      <td>1279.6189</td>\n",
              "      <td>38.864048</td>\n",
              "      <td>WSC</td>\n",
              "      <td>Capitols</td>\n",
              "      <td>50</td>\n",
              "      <td>1300.0000</td>\n",
              "      <td>1320.3811</td>\n",
              "      <td>H</td>\n",
              "      <td>L</td>\n",
              "      <td>0.640065</td>\n",
              "      <td>NaN</td>\n",
              "    </tr>\n",
              "  </tbody>\n",
              "</table>\n",
              "</div>"
            ],
            "text/plain": [
              "   gameorder       game_id lg_id  ...  game_result  forecast notes\n",
              "0          1  194611010TRH   NBA  ...            L  0.640065   NaN\n",
              "1          1  194611010TRH   NBA  ...            W  0.359935   NaN\n",
              "2          2  194611020CHS   NBA  ...            W  0.631101   NaN\n",
              "3          2  194611020CHS   NBA  ...            L  0.368899   NaN\n",
              "4          3  194611020DTF   NBA  ...            L  0.640065   NaN\n",
              "\n",
              "[5 rows x 23 columns]"
            ]
          },
          "metadata": {},
          "execution_count": 6
        }
      ]
    },
    {
      "cell_type": "markdown",
      "metadata": {
        "id": "pwKTRmmpVzao"
      },
      "source": [
        "A não ser que sua tela seja muito grande esse comando exibirá apenas os 23 primeiros elementos podemós usar o comando a seguir com o segundo argumento como 'none' para exibir todas as colunas"
      ]
    },
    {
      "cell_type": "code",
      "metadata": {
        "colab": {
          "base_uri": "https://localhost:8080/",
          "height": 226
        },
        "id": "Kom-K3hSWRzE",
        "outputId": "cc37539b-fac1-4598-a31d-fcde465132d2"
      },
      "source": [
        "pd.set_option(\"display.max.columns\", None)\n",
        "dados_nba.head()"
      ],
      "execution_count": null,
      "outputs": [
        {
          "output_type": "execute_result",
          "data": {
            "text/html": [
              "<div>\n",
              "<style scoped>\n",
              "    .dataframe tbody tr th:only-of-type {\n",
              "        vertical-align: middle;\n",
              "    }\n",
              "\n",
              "    .dataframe tbody tr th {\n",
              "        vertical-align: top;\n",
              "    }\n",
              "\n",
              "    .dataframe thead th {\n",
              "        text-align: right;\n",
              "    }\n",
              "</style>\n",
              "<table border=\"1\" class=\"dataframe\">\n",
              "  <thead>\n",
              "    <tr style=\"text-align: right;\">\n",
              "      <th></th>\n",
              "      <th>gameorder</th>\n",
              "      <th>game_id</th>\n",
              "      <th>lg_id</th>\n",
              "      <th>_iscopy</th>\n",
              "      <th>year_id</th>\n",
              "      <th>date_game</th>\n",
              "      <th>seasongame</th>\n",
              "      <th>is_playoffs</th>\n",
              "      <th>team_id</th>\n",
              "      <th>fran_id</th>\n",
              "      <th>pts</th>\n",
              "      <th>elo_i</th>\n",
              "      <th>elo_n</th>\n",
              "      <th>win_equiv</th>\n",
              "      <th>opp_id</th>\n",
              "      <th>opp_fran</th>\n",
              "      <th>opp_pts</th>\n",
              "      <th>opp_elo_i</th>\n",
              "      <th>opp_elo_n</th>\n",
              "      <th>game_location</th>\n",
              "      <th>game_result</th>\n",
              "      <th>forecast</th>\n",
              "      <th>notes</th>\n",
              "    </tr>\n",
              "  </thead>\n",
              "  <tbody>\n",
              "    <tr>\n",
              "      <th>0</th>\n",
              "      <td>1</td>\n",
              "      <td>194611010TRH</td>\n",
              "      <td>NBA</td>\n",
              "      <td>0</td>\n",
              "      <td>1947</td>\n",
              "      <td>11/1/1946</td>\n",
              "      <td>1</td>\n",
              "      <td>0</td>\n",
              "      <td>TRH</td>\n",
              "      <td>Huskies</td>\n",
              "      <td>66</td>\n",
              "      <td>1300.0000</td>\n",
              "      <td>1293.2767</td>\n",
              "      <td>40.294830</td>\n",
              "      <td>NYK</td>\n",
              "      <td>Knicks</td>\n",
              "      <td>68</td>\n",
              "      <td>1300.0000</td>\n",
              "      <td>1306.7233</td>\n",
              "      <td>H</td>\n",
              "      <td>L</td>\n",
              "      <td>0.640065</td>\n",
              "      <td>NaN</td>\n",
              "    </tr>\n",
              "    <tr>\n",
              "      <th>1</th>\n",
              "      <td>1</td>\n",
              "      <td>194611010TRH</td>\n",
              "      <td>NBA</td>\n",
              "      <td>1</td>\n",
              "      <td>1947</td>\n",
              "      <td>11/1/1946</td>\n",
              "      <td>1</td>\n",
              "      <td>0</td>\n",
              "      <td>NYK</td>\n",
              "      <td>Knicks</td>\n",
              "      <td>68</td>\n",
              "      <td>1300.0000</td>\n",
              "      <td>1306.7233</td>\n",
              "      <td>41.705170</td>\n",
              "      <td>TRH</td>\n",
              "      <td>Huskies</td>\n",
              "      <td>66</td>\n",
              "      <td>1300.0000</td>\n",
              "      <td>1293.2767</td>\n",
              "      <td>A</td>\n",
              "      <td>W</td>\n",
              "      <td>0.359935</td>\n",
              "      <td>NaN</td>\n",
              "    </tr>\n",
              "    <tr>\n",
              "      <th>2</th>\n",
              "      <td>2</td>\n",
              "      <td>194611020CHS</td>\n",
              "      <td>NBA</td>\n",
              "      <td>0</td>\n",
              "      <td>1947</td>\n",
              "      <td>11/2/1946</td>\n",
              "      <td>1</td>\n",
              "      <td>0</td>\n",
              "      <td>CHS</td>\n",
              "      <td>Stags</td>\n",
              "      <td>63</td>\n",
              "      <td>1300.0000</td>\n",
              "      <td>1309.6521</td>\n",
              "      <td>42.012257</td>\n",
              "      <td>NYK</td>\n",
              "      <td>Knicks</td>\n",
              "      <td>47</td>\n",
              "      <td>1306.7233</td>\n",
              "      <td>1297.0712</td>\n",
              "      <td>H</td>\n",
              "      <td>W</td>\n",
              "      <td>0.631101</td>\n",
              "      <td>NaN</td>\n",
              "    </tr>\n",
              "    <tr>\n",
              "      <th>3</th>\n",
              "      <td>2</td>\n",
              "      <td>194611020CHS</td>\n",
              "      <td>NBA</td>\n",
              "      <td>1</td>\n",
              "      <td>1947</td>\n",
              "      <td>11/2/1946</td>\n",
              "      <td>2</td>\n",
              "      <td>0</td>\n",
              "      <td>NYK</td>\n",
              "      <td>Knicks</td>\n",
              "      <td>47</td>\n",
              "      <td>1306.7233</td>\n",
              "      <td>1297.0712</td>\n",
              "      <td>40.692783</td>\n",
              "      <td>CHS</td>\n",
              "      <td>Stags</td>\n",
              "      <td>63</td>\n",
              "      <td>1300.0000</td>\n",
              "      <td>1309.6521</td>\n",
              "      <td>A</td>\n",
              "      <td>L</td>\n",
              "      <td>0.368899</td>\n",
              "      <td>NaN</td>\n",
              "    </tr>\n",
              "    <tr>\n",
              "      <th>4</th>\n",
              "      <td>3</td>\n",
              "      <td>194611020DTF</td>\n",
              "      <td>NBA</td>\n",
              "      <td>0</td>\n",
              "      <td>1947</td>\n",
              "      <td>11/2/1946</td>\n",
              "      <td>1</td>\n",
              "      <td>0</td>\n",
              "      <td>DTF</td>\n",
              "      <td>Falcons</td>\n",
              "      <td>33</td>\n",
              "      <td>1300.0000</td>\n",
              "      <td>1279.6189</td>\n",
              "      <td>38.864048</td>\n",
              "      <td>WSC</td>\n",
              "      <td>Capitols</td>\n",
              "      <td>50</td>\n",
              "      <td>1300.0000</td>\n",
              "      <td>1320.3811</td>\n",
              "      <td>H</td>\n",
              "      <td>L</td>\n",
              "      <td>0.640065</td>\n",
              "      <td>NaN</td>\n",
              "    </tr>\n",
              "  </tbody>\n",
              "</table>\n",
              "</div>"
            ],
            "text/plain": [
              "   gameorder       game_id lg_id  _iscopy  year_id  date_game  seasongame  \\\n",
              "0          1  194611010TRH   NBA        0     1947  11/1/1946           1   \n",
              "1          1  194611010TRH   NBA        1     1947  11/1/1946           1   \n",
              "2          2  194611020CHS   NBA        0     1947  11/2/1946           1   \n",
              "3          2  194611020CHS   NBA        1     1947  11/2/1946           2   \n",
              "4          3  194611020DTF   NBA        0     1947  11/2/1946           1   \n",
              "\n",
              "   is_playoffs team_id  fran_id  pts      elo_i      elo_n  win_equiv opp_id  \\\n",
              "0            0     TRH  Huskies   66  1300.0000  1293.2767  40.294830    NYK   \n",
              "1            0     NYK   Knicks   68  1300.0000  1306.7233  41.705170    TRH   \n",
              "2            0     CHS    Stags   63  1300.0000  1309.6521  42.012257    NYK   \n",
              "3            0     NYK   Knicks   47  1306.7233  1297.0712  40.692783    CHS   \n",
              "4            0     DTF  Falcons   33  1300.0000  1279.6189  38.864048    WSC   \n",
              "\n",
              "   opp_fran  opp_pts  opp_elo_i  opp_elo_n game_location game_result  \\\n",
              "0    Knicks       68  1300.0000  1306.7233             H           L   \n",
              "1   Huskies       66  1300.0000  1293.2767             A           W   \n",
              "2    Knicks       47  1306.7233  1297.0712             H           W   \n",
              "3     Stags       63  1300.0000  1309.6521             A           L   \n",
              "4  Capitols       50  1300.0000  1320.3811             H           L   \n",
              "\n",
              "   forecast notes  \n",
              "0  0.640065   NaN  \n",
              "1  0.359935   NaN  \n",
              "2  0.631101   NaN  \n",
              "3  0.368899   NaN  \n",
              "4  0.640065   NaN  "
            ]
          },
          "metadata": {},
          "execution_count": 7
        }
      ]
    },
    {
      "cell_type": "markdown",
      "metadata": {
        "id": "fEd_hiiPWlXa"
      },
      "source": [
        "Mas como estamós um super computador ele normalmente tem um grande poder de processamento."
      ]
    },
    {
      "cell_type": "markdown",
      "metadata": {
        "id": "we2AiuJGWjde"
      },
      "source": [
        "Para exibir as últimas linha ao contrario do cabeçalho usasse o comando tail()"
      ]
    },
    {
      "cell_type": "code",
      "metadata": {
        "colab": {
          "base_uri": "https://localhost:8080/",
          "height": 226
        },
        "id": "ScUnIHj9XIFx",
        "outputId": "e462f397-9fec-4ebb-e22b-b9f348dc8705"
      },
      "source": [
        "dados_nba.tail()"
      ],
      "execution_count": null,
      "outputs": [
        {
          "output_type": "execute_result",
          "data": {
            "text/html": [
              "<div>\n",
              "<style scoped>\n",
              "    .dataframe tbody tr th:only-of-type {\n",
              "        vertical-align: middle;\n",
              "    }\n",
              "\n",
              "    .dataframe tbody tr th {\n",
              "        vertical-align: top;\n",
              "    }\n",
              "\n",
              "    .dataframe thead th {\n",
              "        text-align: right;\n",
              "    }\n",
              "</style>\n",
              "<table border=\"1\" class=\"dataframe\">\n",
              "  <thead>\n",
              "    <tr style=\"text-align: right;\">\n",
              "      <th></th>\n",
              "      <th>gameorder</th>\n",
              "      <th>game_id</th>\n",
              "      <th>lg_id</th>\n",
              "      <th>_iscopy</th>\n",
              "      <th>year_id</th>\n",
              "      <th>date_game</th>\n",
              "      <th>seasongame</th>\n",
              "      <th>is_playoffs</th>\n",
              "      <th>team_id</th>\n",
              "      <th>fran_id</th>\n",
              "      <th>pts</th>\n",
              "      <th>elo_i</th>\n",
              "      <th>elo_n</th>\n",
              "      <th>win_equiv</th>\n",
              "      <th>opp_id</th>\n",
              "      <th>opp_fran</th>\n",
              "      <th>opp_pts</th>\n",
              "      <th>opp_elo_i</th>\n",
              "      <th>opp_elo_n</th>\n",
              "      <th>game_location</th>\n",
              "      <th>game_result</th>\n",
              "      <th>forecast</th>\n",
              "      <th>notes</th>\n",
              "    </tr>\n",
              "  </thead>\n",
              "  <tbody>\n",
              "    <tr>\n",
              "      <th>126309</th>\n",
              "      <td>63155</td>\n",
              "      <td>201506110CLE</td>\n",
              "      <td>NBA</td>\n",
              "      <td>0</td>\n",
              "      <td>2015</td>\n",
              "      <td>6/11/2015</td>\n",
              "      <td>100</td>\n",
              "      <td>1</td>\n",
              "      <td>CLE</td>\n",
              "      <td>Cavaliers</td>\n",
              "      <td>82</td>\n",
              "      <td>1723.4149</td>\n",
              "      <td>1704.3949</td>\n",
              "      <td>60.309792</td>\n",
              "      <td>GSW</td>\n",
              "      <td>Warriors</td>\n",
              "      <td>103</td>\n",
              "      <td>1790.9591</td>\n",
              "      <td>1809.9791</td>\n",
              "      <td>H</td>\n",
              "      <td>L</td>\n",
              "      <td>0.546572</td>\n",
              "      <td>NaN</td>\n",
              "    </tr>\n",
              "    <tr>\n",
              "      <th>126310</th>\n",
              "      <td>63156</td>\n",
              "      <td>201506140GSW</td>\n",
              "      <td>NBA</td>\n",
              "      <td>0</td>\n",
              "      <td>2015</td>\n",
              "      <td>6/14/2015</td>\n",
              "      <td>102</td>\n",
              "      <td>1</td>\n",
              "      <td>GSW</td>\n",
              "      <td>Warriors</td>\n",
              "      <td>104</td>\n",
              "      <td>1809.9791</td>\n",
              "      <td>1813.6349</td>\n",
              "      <td>68.013329</td>\n",
              "      <td>CLE</td>\n",
              "      <td>Cavaliers</td>\n",
              "      <td>91</td>\n",
              "      <td>1704.3949</td>\n",
              "      <td>1700.7391</td>\n",
              "      <td>H</td>\n",
              "      <td>W</td>\n",
              "      <td>0.765565</td>\n",
              "      <td>NaN</td>\n",
              "    </tr>\n",
              "    <tr>\n",
              "      <th>126311</th>\n",
              "      <td>63156</td>\n",
              "      <td>201506140GSW</td>\n",
              "      <td>NBA</td>\n",
              "      <td>1</td>\n",
              "      <td>2015</td>\n",
              "      <td>6/14/2015</td>\n",
              "      <td>101</td>\n",
              "      <td>1</td>\n",
              "      <td>CLE</td>\n",
              "      <td>Cavaliers</td>\n",
              "      <td>91</td>\n",
              "      <td>1704.3949</td>\n",
              "      <td>1700.7391</td>\n",
              "      <td>60.010067</td>\n",
              "      <td>GSW</td>\n",
              "      <td>Warriors</td>\n",
              "      <td>104</td>\n",
              "      <td>1809.9791</td>\n",
              "      <td>1813.6349</td>\n",
              "      <td>A</td>\n",
              "      <td>L</td>\n",
              "      <td>0.234435</td>\n",
              "      <td>NaN</td>\n",
              "    </tr>\n",
              "    <tr>\n",
              "      <th>126312</th>\n",
              "      <td>63157</td>\n",
              "      <td>201506170CLE</td>\n",
              "      <td>NBA</td>\n",
              "      <td>0</td>\n",
              "      <td>2015</td>\n",
              "      <td>6/16/2015</td>\n",
              "      <td>102</td>\n",
              "      <td>1</td>\n",
              "      <td>CLE</td>\n",
              "      <td>Cavaliers</td>\n",
              "      <td>97</td>\n",
              "      <td>1700.7391</td>\n",
              "      <td>1692.0859</td>\n",
              "      <td>59.290245</td>\n",
              "      <td>GSW</td>\n",
              "      <td>Warriors</td>\n",
              "      <td>105</td>\n",
              "      <td>1813.6349</td>\n",
              "      <td>1822.2881</td>\n",
              "      <td>H</td>\n",
              "      <td>L</td>\n",
              "      <td>0.481450</td>\n",
              "      <td>NaN</td>\n",
              "    </tr>\n",
              "    <tr>\n",
              "      <th>126313</th>\n",
              "      <td>63157</td>\n",
              "      <td>201506170CLE</td>\n",
              "      <td>NBA</td>\n",
              "      <td>1</td>\n",
              "      <td>2015</td>\n",
              "      <td>6/16/2015</td>\n",
              "      <td>103</td>\n",
              "      <td>1</td>\n",
              "      <td>GSW</td>\n",
              "      <td>Warriors</td>\n",
              "      <td>105</td>\n",
              "      <td>1813.6349</td>\n",
              "      <td>1822.2881</td>\n",
              "      <td>68.519516</td>\n",
              "      <td>CLE</td>\n",
              "      <td>Cavaliers</td>\n",
              "      <td>97</td>\n",
              "      <td>1700.7391</td>\n",
              "      <td>1692.0859</td>\n",
              "      <td>A</td>\n",
              "      <td>W</td>\n",
              "      <td>0.518550</td>\n",
              "      <td>NaN</td>\n",
              "    </tr>\n",
              "  </tbody>\n",
              "</table>\n",
              "</div>"
            ],
            "text/plain": [
              "        gameorder       game_id lg_id  _iscopy  year_id  date_game  \\\n",
              "126309      63155  201506110CLE   NBA        0     2015  6/11/2015   \n",
              "126310      63156  201506140GSW   NBA        0     2015  6/14/2015   \n",
              "126311      63156  201506140GSW   NBA        1     2015  6/14/2015   \n",
              "126312      63157  201506170CLE   NBA        0     2015  6/16/2015   \n",
              "126313      63157  201506170CLE   NBA        1     2015  6/16/2015   \n",
              "\n",
              "        seasongame  is_playoffs team_id    fran_id  pts      elo_i      elo_n  \\\n",
              "126309         100            1     CLE  Cavaliers   82  1723.4149  1704.3949   \n",
              "126310         102            1     GSW   Warriors  104  1809.9791  1813.6349   \n",
              "126311         101            1     CLE  Cavaliers   91  1704.3949  1700.7391   \n",
              "126312         102            1     CLE  Cavaliers   97  1700.7391  1692.0859   \n",
              "126313         103            1     GSW   Warriors  105  1813.6349  1822.2881   \n",
              "\n",
              "        win_equiv opp_id   opp_fran  opp_pts  opp_elo_i  opp_elo_n  \\\n",
              "126309  60.309792    GSW   Warriors      103  1790.9591  1809.9791   \n",
              "126310  68.013329    CLE  Cavaliers       91  1704.3949  1700.7391   \n",
              "126311  60.010067    GSW   Warriors      104  1809.9791  1813.6349   \n",
              "126312  59.290245    GSW   Warriors      105  1813.6349  1822.2881   \n",
              "126313  68.519516    CLE  Cavaliers       97  1700.7391  1692.0859   \n",
              "\n",
              "       game_location game_result  forecast notes  \n",
              "126309             H           L  0.546572   NaN  \n",
              "126310             H           W  0.765565   NaN  \n",
              "126311             A           L  0.234435   NaN  \n",
              "126312             H           L  0.481450   NaN  \n",
              "126313             A           W  0.518550   NaN  "
            ]
          },
          "metadata": {},
          "execution_count": 8
        }
      ]
    },
    {
      "cell_type": "markdown",
      "metadata": {
        "id": "LZYSsy2fXWYf"
      },
      "source": [
        "Com a biblioteca pandas você pode identifica os diferentes tipos de dados neles contidos, as estrutura de dados do pandas são muito mais rápidos do que a tecnologia de lista do python "
      ]
    },
    {
      "cell_type": "code",
      "metadata": {
        "colab": {
          "base_uri": "https://localhost:8080/"
        },
        "id": "9_OpgqK1XRGv",
        "outputId": "f12b06c1-4a2c-4643-f8b2-5edea4b74b8c"
      },
      "source": [
        "dados_nba.info()"
      ],
      "execution_count": null,
      "outputs": [
        {
          "output_type": "stream",
          "name": "stdout",
          "text": [
            "<class 'pandas.core.frame.DataFrame'>\n",
            "RangeIndex: 126314 entries, 0 to 126313\n",
            "Data columns (total 23 columns):\n",
            " #   Column         Non-Null Count   Dtype  \n",
            "---  ------         --------------   -----  \n",
            " 0   gameorder      126314 non-null  int64  \n",
            " 1   game_id        126314 non-null  object \n",
            " 2   lg_id          126314 non-null  object \n",
            " 3   _iscopy        126314 non-null  int64  \n",
            " 4   year_id        126314 non-null  int64  \n",
            " 5   date_game      126314 non-null  object \n",
            " 6   seasongame     126314 non-null  int64  \n",
            " 7   is_playoffs    126314 non-null  int64  \n",
            " 8   team_id        126314 non-null  object \n",
            " 9   fran_id        126314 non-null  object \n",
            " 10  pts            126314 non-null  int64  \n",
            " 11  elo_i          126314 non-null  float64\n",
            " 12  elo_n          126314 non-null  float64\n",
            " 13  win_equiv      126314 non-null  float64\n",
            " 14  opp_id         126314 non-null  object \n",
            " 15  opp_fran       126314 non-null  object \n",
            " 16  opp_pts        126314 non-null  int64  \n",
            " 17  opp_elo_i      126314 non-null  float64\n",
            " 18  opp_elo_n      126314 non-null  float64\n",
            " 19  game_location  126314 non-null  object \n",
            " 20  game_result    126314 non-null  object \n",
            " 21  forecast       126314 non-null  float64\n",
            " 22  notes          5424 non-null    object \n",
            "dtypes: float64(6), int64(7), object(10)\n",
            "memory usage: 22.2+ MB\n"
          ]
        }
      ]
    },
    {
      "cell_type": "markdown",
      "metadata": {
        "id": "NivzPR_2X8gt"
      },
      "source": [
        "Você pode ver uma lista de todas as colunas em seu conjunto de dados e o tipo de dados que cada coluna contém. Aqui, você pode ver os tipos de dados int64, float64 e objeto. O Pandas usa a biblioteca NumPy para trabalhar com esses tipos.  "
      ]
    },
    {
      "cell_type": "markdown",
      "metadata": {
        "id": "kr-Iw7KiYm1y"
      },
      "source": [
        "O próximo comando visa da uma descrição dos dados como média, desvio padrão, minimo, máximo e etc."
      ]
    },
    {
      "cell_type": "code",
      "metadata": {
        "colab": {
          "base_uri": "https://localhost:8080/",
          "height": 320
        },
        "id": "EfrcKfAFY0Cl",
        "outputId": "4cfac3ab-f450-4722-a10a-066d8bb86032"
      },
      "source": [
        "dados_nba.describe()"
      ],
      "execution_count": null,
      "outputs": [
        {
          "output_type": "execute_result",
          "data": {
            "text/html": [
              "<div>\n",
              "<style scoped>\n",
              "    .dataframe tbody tr th:only-of-type {\n",
              "        vertical-align: middle;\n",
              "    }\n",
              "\n",
              "    .dataframe tbody tr th {\n",
              "        vertical-align: top;\n",
              "    }\n",
              "\n",
              "    .dataframe thead th {\n",
              "        text-align: right;\n",
              "    }\n",
              "</style>\n",
              "<table border=\"1\" class=\"dataframe\">\n",
              "  <thead>\n",
              "    <tr style=\"text-align: right;\">\n",
              "      <th></th>\n",
              "      <th>gameorder</th>\n",
              "      <th>_iscopy</th>\n",
              "      <th>year_id</th>\n",
              "      <th>seasongame</th>\n",
              "      <th>is_playoffs</th>\n",
              "      <th>pts</th>\n",
              "      <th>elo_i</th>\n",
              "      <th>elo_n</th>\n",
              "      <th>win_equiv</th>\n",
              "      <th>opp_pts</th>\n",
              "      <th>opp_elo_i</th>\n",
              "      <th>opp_elo_n</th>\n",
              "      <th>forecast</th>\n",
              "    </tr>\n",
              "  </thead>\n",
              "  <tbody>\n",
              "    <tr>\n",
              "      <th>count</th>\n",
              "      <td>126314.000000</td>\n",
              "      <td>126314.000000</td>\n",
              "      <td>126314.000000</td>\n",
              "      <td>126314.000000</td>\n",
              "      <td>126314.000000</td>\n",
              "      <td>126314.000000</td>\n",
              "      <td>126314.000000</td>\n",
              "      <td>126314.000000</td>\n",
              "      <td>126314.000000</td>\n",
              "      <td>126314.000000</td>\n",
              "      <td>126314.000000</td>\n",
              "      <td>126314.000000</td>\n",
              "      <td>126314.000000</td>\n",
              "    </tr>\n",
              "    <tr>\n",
              "      <th>mean</th>\n",
              "      <td>31579.000000</td>\n",
              "      <td>0.500000</td>\n",
              "      <td>1988.200374</td>\n",
              "      <td>43.533733</td>\n",
              "      <td>0.063857</td>\n",
              "      <td>102.729982</td>\n",
              "      <td>1495.236055</td>\n",
              "      <td>1495.236055</td>\n",
              "      <td>41.707889</td>\n",
              "      <td>102.729982</td>\n",
              "      <td>1495.236055</td>\n",
              "      <td>1495.236055</td>\n",
              "      <td>0.500000</td>\n",
              "    </tr>\n",
              "    <tr>\n",
              "      <th>std</th>\n",
              "      <td>18231.927643</td>\n",
              "      <td>0.500002</td>\n",
              "      <td>17.582309</td>\n",
              "      <td>25.375178</td>\n",
              "      <td>0.244499</td>\n",
              "      <td>14.814845</td>\n",
              "      <td>112.139945</td>\n",
              "      <td>112.461687</td>\n",
              "      <td>10.627332</td>\n",
              "      <td>14.814845</td>\n",
              "      <td>112.139945</td>\n",
              "      <td>112.461687</td>\n",
              "      <td>0.215252</td>\n",
              "    </tr>\n",
              "    <tr>\n",
              "      <th>min</th>\n",
              "      <td>1.000000</td>\n",
              "      <td>0.000000</td>\n",
              "      <td>1947.000000</td>\n",
              "      <td>1.000000</td>\n",
              "      <td>0.000000</td>\n",
              "      <td>0.000000</td>\n",
              "      <td>1091.644500</td>\n",
              "      <td>1085.774400</td>\n",
              "      <td>10.152501</td>\n",
              "      <td>0.000000</td>\n",
              "      <td>1091.644500</td>\n",
              "      <td>1085.774400</td>\n",
              "      <td>0.020447</td>\n",
              "    </tr>\n",
              "    <tr>\n",
              "      <th>25%</th>\n",
              "      <td>15790.000000</td>\n",
              "      <td>0.000000</td>\n",
              "      <td>1975.000000</td>\n",
              "      <td>22.000000</td>\n",
              "      <td>0.000000</td>\n",
              "      <td>93.000000</td>\n",
              "      <td>1417.237975</td>\n",
              "      <td>1416.994900</td>\n",
              "      <td>34.103035</td>\n",
              "      <td>93.000000</td>\n",
              "      <td>1417.237975</td>\n",
              "      <td>1416.994900</td>\n",
              "      <td>0.327989</td>\n",
              "    </tr>\n",
              "    <tr>\n",
              "      <th>50%</th>\n",
              "      <td>31579.000000</td>\n",
              "      <td>0.500000</td>\n",
              "      <td>1990.000000</td>\n",
              "      <td>43.000000</td>\n",
              "      <td>0.000000</td>\n",
              "      <td>103.000000</td>\n",
              "      <td>1500.945550</td>\n",
              "      <td>1500.954400</td>\n",
              "      <td>42.113357</td>\n",
              "      <td>103.000000</td>\n",
              "      <td>1500.945550</td>\n",
              "      <td>1500.954400</td>\n",
              "      <td>0.500000</td>\n",
              "    </tr>\n",
              "    <tr>\n",
              "      <th>75%</th>\n",
              "      <td>47368.000000</td>\n",
              "      <td>1.000000</td>\n",
              "      <td>2003.000000</td>\n",
              "      <td>65.000000</td>\n",
              "      <td>0.000000</td>\n",
              "      <td>112.000000</td>\n",
              "      <td>1576.060000</td>\n",
              "      <td>1576.291625</td>\n",
              "      <td>49.635328</td>\n",
              "      <td>112.000000</td>\n",
              "      <td>1576.060000</td>\n",
              "      <td>1576.291625</td>\n",
              "      <td>0.672011</td>\n",
              "    </tr>\n",
              "    <tr>\n",
              "      <th>max</th>\n",
              "      <td>63157.000000</td>\n",
              "      <td>1.000000</td>\n",
              "      <td>2015.000000</td>\n",
              "      <td>108.000000</td>\n",
              "      <td>1.000000</td>\n",
              "      <td>186.000000</td>\n",
              "      <td>1853.104500</td>\n",
              "      <td>1853.104500</td>\n",
              "      <td>71.112038</td>\n",
              "      <td>186.000000</td>\n",
              "      <td>1853.104500</td>\n",
              "      <td>1853.104500</td>\n",
              "      <td>0.979553</td>\n",
              "    </tr>\n",
              "  </tbody>\n",
              "</table>\n",
              "</div>"
            ],
            "text/plain": [
              "           gameorder        _iscopy        year_id     seasongame  \\\n",
              "count  126314.000000  126314.000000  126314.000000  126314.000000   \n",
              "mean    31579.000000       0.500000    1988.200374      43.533733   \n",
              "std     18231.927643       0.500002      17.582309      25.375178   \n",
              "min         1.000000       0.000000    1947.000000       1.000000   \n",
              "25%     15790.000000       0.000000    1975.000000      22.000000   \n",
              "50%     31579.000000       0.500000    1990.000000      43.000000   \n",
              "75%     47368.000000       1.000000    2003.000000      65.000000   \n",
              "max     63157.000000       1.000000    2015.000000     108.000000   \n",
              "\n",
              "         is_playoffs            pts          elo_i          elo_n  \\\n",
              "count  126314.000000  126314.000000  126314.000000  126314.000000   \n",
              "mean        0.063857     102.729982    1495.236055    1495.236055   \n",
              "std         0.244499      14.814845     112.139945     112.461687   \n",
              "min         0.000000       0.000000    1091.644500    1085.774400   \n",
              "25%         0.000000      93.000000    1417.237975    1416.994900   \n",
              "50%         0.000000     103.000000    1500.945550    1500.954400   \n",
              "75%         0.000000     112.000000    1576.060000    1576.291625   \n",
              "max         1.000000     186.000000    1853.104500    1853.104500   \n",
              "\n",
              "           win_equiv        opp_pts      opp_elo_i      opp_elo_n  \\\n",
              "count  126314.000000  126314.000000  126314.000000  126314.000000   \n",
              "mean       41.707889     102.729982    1495.236055    1495.236055   \n",
              "std        10.627332      14.814845     112.139945     112.461687   \n",
              "min        10.152501       0.000000    1091.644500    1085.774400   \n",
              "25%        34.103035      93.000000    1417.237975    1416.994900   \n",
              "50%        42.113357     103.000000    1500.945550    1500.954400   \n",
              "75%        49.635328     112.000000    1576.060000    1576.291625   \n",
              "max        71.112038     186.000000    1853.104500    1853.104500   \n",
              "\n",
              "            forecast  \n",
              "count  126314.000000  \n",
              "mean        0.500000  \n",
              "std         0.215252  \n",
              "min         0.020447  \n",
              "25%         0.327989  \n",
              "50%         0.500000  \n",
              "75%         0.672011  \n",
              "max         0.979553  "
            ]
          },
          "metadata": {},
          "execution_count": 10
        }
      ]
    },
    {
      "cell_type": "markdown",
      "metadata": {
        "id": "3K9ZrTsDZXxe"
      },
      "source": [
        "O comando .describe apenas analiza as colunas númericas por padrão, mas podemós incluir outro tipos de dados com o comando include.\n",
        "Observe que .describe () não tentará calcular uma média ou um desvio padrão para as colunas que são objetos python, Já que não são dados númericos e sim texto. No entanto, ele ainda exibirá algumas estatísticas descritivas"
      ]
    },
    {
      "cell_type": "code",
      "metadata": {
        "colab": {
          "base_uri": "https://localhost:8080/",
          "height": 175
        },
        "id": "Eo2xoC3NZJhO",
        "outputId": "86238964-6200-4fc4-e2f6-0f967f1a3a90"
      },
      "source": [
        "import numpy as np\n",
        "dados_nba.describe(include=object)"
      ],
      "execution_count": null,
      "outputs": [
        {
          "output_type": "execute_result",
          "data": {
            "text/html": [
              "<div>\n",
              "<style scoped>\n",
              "    .dataframe tbody tr th:only-of-type {\n",
              "        vertical-align: middle;\n",
              "    }\n",
              "\n",
              "    .dataframe tbody tr th {\n",
              "        vertical-align: top;\n",
              "    }\n",
              "\n",
              "    .dataframe thead th {\n",
              "        text-align: right;\n",
              "    }\n",
              "</style>\n",
              "<table border=\"1\" class=\"dataframe\">\n",
              "  <thead>\n",
              "    <tr style=\"text-align: right;\">\n",
              "      <th></th>\n",
              "      <th>game_id</th>\n",
              "      <th>lg_id</th>\n",
              "      <th>date_game</th>\n",
              "      <th>team_id</th>\n",
              "      <th>fran_id</th>\n",
              "      <th>opp_id</th>\n",
              "      <th>opp_fran</th>\n",
              "      <th>game_location</th>\n",
              "      <th>game_result</th>\n",
              "      <th>notes</th>\n",
              "    </tr>\n",
              "  </thead>\n",
              "  <tbody>\n",
              "    <tr>\n",
              "      <th>count</th>\n",
              "      <td>126314</td>\n",
              "      <td>126314</td>\n",
              "      <td>126314</td>\n",
              "      <td>126314</td>\n",
              "      <td>126314</td>\n",
              "      <td>126314</td>\n",
              "      <td>126314</td>\n",
              "      <td>126314</td>\n",
              "      <td>126314</td>\n",
              "      <td>5424</td>\n",
              "    </tr>\n",
              "    <tr>\n",
              "      <th>unique</th>\n",
              "      <td>63157</td>\n",
              "      <td>2</td>\n",
              "      <td>12426</td>\n",
              "      <td>104</td>\n",
              "      <td>53</td>\n",
              "      <td>104</td>\n",
              "      <td>53</td>\n",
              "      <td>3</td>\n",
              "      <td>2</td>\n",
              "      <td>231</td>\n",
              "    </tr>\n",
              "    <tr>\n",
              "      <th>top</th>\n",
              "      <td>200802260MIL</td>\n",
              "      <td>NBA</td>\n",
              "      <td>1/2/2009</td>\n",
              "      <td>BOS</td>\n",
              "      <td>Lakers</td>\n",
              "      <td>BOS</td>\n",
              "      <td>Lakers</td>\n",
              "      <td>A</td>\n",
              "      <td>L</td>\n",
              "      <td>at New York NY</td>\n",
              "    </tr>\n",
              "    <tr>\n",
              "      <th>freq</th>\n",
              "      <td>2</td>\n",
              "      <td>118016</td>\n",
              "      <td>30</td>\n",
              "      <td>5997</td>\n",
              "      <td>6024</td>\n",
              "      <td>5997</td>\n",
              "      <td>6024</td>\n",
              "      <td>63138</td>\n",
              "      <td>63157</td>\n",
              "      <td>440</td>\n",
              "    </tr>\n",
              "  </tbody>\n",
              "</table>\n",
              "</div>"
            ],
            "text/plain": [
              "             game_id   lg_id date_game team_id fran_id  opp_id opp_fran  \\\n",
              "count         126314  126314    126314  126314  126314  126314   126314   \n",
              "unique         63157       2     12426     104      53     104       53   \n",
              "top     200802260MIL     NBA  1/2/2009     BOS  Lakers     BOS   Lakers   \n",
              "freq               2  118016        30    5997    6024    5997     6024   \n",
              "\n",
              "       game_location game_result           notes  \n",
              "count         126314      126314            5424  \n",
              "unique             3           2             231  \n",
              "top                A           L  at New York NY  \n",
              "freq           63138       63157             440  "
            ]
          },
          "metadata": {},
          "execution_count": 11
        }
      ]
    },
    {
      "cell_type": "markdown",
      "metadata": {
        "id": "1OplMpFzZ_0k"
      },
      "source": [
        "Com o seguinte comando você pode analisar o número que deterinado elementos se repeteM"
      ]
    },
    {
      "cell_type": "code",
      "metadata": {
        "colab": {
          "base_uri": "https://localhost:8080/"
        },
        "id": "6aC7jIpPaKRC",
        "outputId": "68570340-ed41-4265-e960-cf6de9c2c800"
      },
      "source": [
        "dados_nba[\"team_id\"].value_counts()"
      ],
      "execution_count": null,
      "outputs": [
        {
          "output_type": "execute_result",
          "data": {
            "text/plain": [
              "BOS    5997\n",
              "NYK    5769\n",
              "LAL    5078\n",
              "DET    4985\n",
              "PHI    4533\n",
              "       ... \n",
              "INJ      60\n",
              "DTF      60\n",
              "TRH      60\n",
              "PIT      60\n",
              "SDS      11\n",
              "Name: team_id, Length: 104, dtype: int64"
            ]
          },
          "metadata": {},
          "execution_count": 12
        }
      ]
    },
    {
      "cell_type": "code",
      "metadata": {
        "colab": {
          "base_uri": "https://localhost:8080/"
        },
        "id": "Hac2ZxiUaRxd",
        "outputId": "a176d70d-6587-496e-b53d-8a64fd40f162"
      },
      "source": [
        "dados_nba[\"fran_id\"].value_counts()"
      ],
      "execution_count": null,
      "outputs": [
        {
          "output_type": "execute_result",
          "data": {
            "text/plain": [
              "Lakers          6024\n",
              "Celtics         5997\n",
              "Knicks          5769\n",
              "Warriors        5657\n",
              "Pistons         5650\n",
              "Sixers          5644\n",
              "Hawks           5572\n",
              "Kings           5475\n",
              "Wizards         4582\n",
              "Spurs           4309\n",
              "Bulls           4307\n",
              "Pacers          4227\n",
              "Thunder         4178\n",
              "Rockets         4154\n",
              "Nuggets         4120\n",
              "Nets            4106\n",
              "Suns            4080\n",
              "Bucks           4034\n",
              "Trailblazers    3870\n",
              "Cavaliers       3810\n",
              "Clippers        3733\n",
              "Jazz            3555\n",
              "Mavericks       3013\n",
              "Heat            2371\n",
              "Pelicans        2254\n",
              "Magic           2207\n",
              "Timberwolves    2131\n",
              "Grizzlies       1657\n",
              "Raptors         1634\n",
              "Hornets          894\n",
              "Colonels         846\n",
              "Squires          799\n",
              "Spirits          777\n",
              "Stars            756\n",
              "Sounds           697\n",
              "Baltimore        467\n",
              "Floridians       440\n",
              "Condors          430\n",
              "Capitols         291\n",
              "Olympians        282\n",
              "Sails            274\n",
              "Stags            260\n",
              "Bombers          249\n",
              "Steamrollers     168\n",
              "Packers           72\n",
              "Redskins          65\n",
              "Rebels            63\n",
              "Waterloo          62\n",
              "Denver            62\n",
              "Jets              60\n",
              "Ironmen           60\n",
              "Falcons           60\n",
              "Huskies           60\n",
              "Name: fran_id, dtype: int64"
            ]
          },
          "metadata": {},
          "execution_count": 13
        }
      ]
    },
    {
      "cell_type": "markdown",
      "metadata": {
        "id": "tdc_o60PaCsY"
      },
      "source": [
        "Podemós combinar comandos agora para saber onde o lakers jogou fora do Los angeles lakers e descobrimós que corresponde a \"MNL\" Minneapolis Lakers."
      ]
    },
    {
      "cell_type": "code",
      "metadata": {
        "colab": {
          "base_uri": "https://localhost:8080/"
        },
        "id": "iNWMLiZGbHj4",
        "outputId": "2351fd32-f513-4e52-c203-65678cae25e2"
      },
      "source": [
        "dados_nba.loc[dados_nba[\"fran_id\"] == \"Lakers\", \"team_id\"].value_counts()"
      ],
      "execution_count": null,
      "outputs": [
        {
          "output_type": "execute_result",
          "data": {
            "text/plain": [
              "LAL    5078\n",
              "MNL     946\n",
              "Name: team_id, dtype: int64"
            ]
          },
          "metadata": {},
          "execution_count": 14
        }
      ]
    },
    {
      "cell_type": "markdown",
      "metadata": {
        "id": "khNRc-bLbsCR"
      },
      "source": [
        "Podemós até ver qual o jogo mais recente e mais antigo jogado em MNL"
      ]
    },
    {
      "cell_type": "code",
      "metadata": {
        "colab": {
          "base_uri": "https://localhost:8080/"
        },
        "id": "qyveLv8Fb06j",
        "outputId": "ea336505-9b41-483e-d3c3-bec56b06ee76"
      },
      "source": [
        "dados_nba[\"date_played\"] = pd.to_datetime(dados_nba[\"date_game\"])\n",
        "dados_nba.loc[dados_nba[\"team_id\"] == \"MNL\", \"date_played\"].agg((\"min\", \"max\"))"
      ],
      "execution_count": null,
      "outputs": [
        {
          "output_type": "execute_result",
          "data": {
            "text/plain": [
              "min   1948-11-04\n",
              "max   1960-03-26\n",
              "Name: date_played, dtype: datetime64[ns]"
            ]
          },
          "metadata": {},
          "execution_count": 15
        }
      ]
    },
    {
      "cell_type": "markdown",
      "metadata": {
        "id": "D9fzL1ZUcJdN"
      },
      "source": [
        "#Entendendo a serie de Objetos\n",
        "\n",
        "A estrutura de dados mais básica do Python é a lista, que também é um bom ponto de partida para conhecer os objetos pandas.Series. Crie um novo objeto Series com base em uma lista:\n",
        "\n",
        "Um exemplo do tipo de dados Series é apresentado em seguida, adaptando parte do código para usar a estrutura dados  de serie."
      ]
    },
    {
      "cell_type": "code",
      "metadata": {
        "colab": {
          "base_uri": "https://localhost:8080/"
        },
        "id": "gK8D51-lPR8c",
        "outputId": "ece900e1-7f0b-4598-e9c3-40e7e98078f6"
      },
      "source": [
        "revenues = pd.Series([5555, 7000, 1980])\n",
        "revenues\n",
        "type(revenues.values)\n"
      ],
      "execution_count": null,
      "outputs": [
        {
          "output_type": "execute_result",
          "data": {
            "text/plain": [
              "numpy.ndarray"
            ]
          },
          "metadata": {},
          "execution_count": 16
        }
      ]
    },
    {
      "cell_type": "code",
      "metadata": {
        "colab": {
          "base_uri": "https://localhost:8080/"
        },
        "id": "HmG1WJDxQIiC",
        "outputId": "f0cdbfec-1a4f-4817-d6d8-2ed36f5163df"
      },
      "source": [
        "city_revenues = pd.Series(\n",
        "    [4200, 8000, 6500],\n",
        "    index=[\"Amsterdam\", \"Toronto\", \"Tokyo\"]\n",
        "    )\n",
        "city_revenues\n"
      ],
      "execution_count": null,
      "outputs": [
        {
          "output_type": "execute_result",
          "data": {
            "text/plain": [
              "Amsterdam    4200\n",
              "Toronto      8000\n",
              "Tokyo        6500\n",
              "dtype: int64"
            ]
          },
          "metadata": {},
          "execution_count": 17
        }
      ]
    },
    {
      "cell_type": "code",
      "metadata": {
        "colab": {
          "base_uri": "https://localhost:8080/"
        },
        "id": "rsLc6xOSSg5v",
        "outputId": "6df81699-7f0d-4348-ee88-495c47bf7b66"
      },
      "source": [
        "city_employee_count = pd.Series({\"Amsterdam\": 5, \"Tokyo\": 8})\n",
        "city_employee_count"
      ],
      "execution_count": null,
      "outputs": [
        {
          "output_type": "execute_result",
          "data": {
            "text/plain": [
              "Amsterdam    5\n",
              "Tokyo        8\n",
              "dtype: int64"
            ]
          },
          "metadata": {},
          "execution_count": 18
        }
      ]
    },
    {
      "cell_type": "markdown",
      "metadata": {
        "id": "ePm228Eyxhg6"
      },
      "source": [
        "# Entendendo os objetos DataFrame\n",
        "Embora uma série seja uma estrutura de dados muito poderosa, ela tem suas limitações. Por exemplo, você só pode armazenar um atributo por chave. Como você viu com o conjunto de dados nba, que possui 23 colunas, a biblioteca Pandas Python tem mais a oferecer com seu DataFrame. Esta estrutura de dados é uma sequência de objetos Series que compartilham o mesmo índice.\n",
        "\n",
        "Se você acompanhou os exemplos da Série, já deve ter dois objetos da Série com cidades como chaves:\n",
        "\n",
        "     city_revenues\n",
        "     city_employee_count\n",
        "\n",
        "Você pode combinar esses objetos em um DataFrame, fornecendo um dicionário no construtor. As chaves de dicionário se tornarão os nomes das colunas, e os valores devem conter os objetos Series:"
      ]
    },
    {
      "cell_type": "code",
      "metadata": {
        "colab": {
          "base_uri": "https://localhost:8080/",
          "height": 143
        },
        "id": "xsAIVWCWx6ob",
        "outputId": "890b3668-681e-4e59-ae1f-c4b3c2dc147c"
      },
      "source": [
        "city_data = pd.DataFrame({\n",
        "    \"revenue\": city_revenues,\n",
        "    \"employee_count\": city_employee_count\n",
        "})\n",
        "city_data"
      ],
      "execution_count": null,
      "outputs": [
        {
          "output_type": "execute_result",
          "data": {
            "text/html": [
              "<div>\n",
              "<style scoped>\n",
              "    .dataframe tbody tr th:only-of-type {\n",
              "        vertical-align: middle;\n",
              "    }\n",
              "\n",
              "    .dataframe tbody tr th {\n",
              "        vertical-align: top;\n",
              "    }\n",
              "\n",
              "    .dataframe thead th {\n",
              "        text-align: right;\n",
              "    }\n",
              "</style>\n",
              "<table border=\"1\" class=\"dataframe\">\n",
              "  <thead>\n",
              "    <tr style=\"text-align: right;\">\n",
              "      <th></th>\n",
              "      <th>revenue</th>\n",
              "      <th>employee_count</th>\n",
              "    </tr>\n",
              "  </thead>\n",
              "  <tbody>\n",
              "    <tr>\n",
              "      <th>Amsterdam</th>\n",
              "      <td>4200</td>\n",
              "      <td>5.0</td>\n",
              "    </tr>\n",
              "    <tr>\n",
              "      <th>Tokyo</th>\n",
              "      <td>6500</td>\n",
              "      <td>8.0</td>\n",
              "    </tr>\n",
              "    <tr>\n",
              "      <th>Toronto</th>\n",
              "      <td>8000</td>\n",
              "      <td>NaN</td>\n",
              "    </tr>\n",
              "  </tbody>\n",
              "</table>\n",
              "</div>"
            ],
            "text/plain": [
              "           revenue  employee_count\n",
              "Amsterdam     4200             5.0\n",
              "Tokyo         6500             8.0\n",
              "Toronto       8000             NaN"
            ]
          },
          "metadata": {},
          "execution_count": 19
        }
      ]
    },
    {
      "cell_type": "code",
      "metadata": {
        "colab": {
          "base_uri": "https://localhost:8080/"
        },
        "id": "PHIo8HvHyH1x",
        "outputId": "e636d7ed-179e-41a5-9499-eb096dafd9f8"
      },
      "source": [
        "city_data.index"
      ],
      "execution_count": null,
      "outputs": [
        {
          "output_type": "execute_result",
          "data": {
            "text/plain": [
              "Index(['Amsterdam', 'Tokyo', 'Toronto'], dtype='object')"
            ]
          },
          "metadata": {},
          "execution_count": 20
        }
      ]
    },
    {
      "cell_type": "code",
      "metadata": {
        "colab": {
          "base_uri": "https://localhost:8080/"
        },
        "id": "-bUO0tB8yK9p",
        "outputId": "a735c5ca-88bb-44da-9b0d-6939220d917f"
      },
      "source": [
        "city_data.values"
      ],
      "execution_count": null,
      "outputs": [
        {
          "output_type": "execute_result",
          "data": {
            "text/plain": [
              "array([[4.2e+03, 5.0e+00],\n",
              "       [6.5e+03, 8.0e+00],\n",
              "       [8.0e+03,     nan]])"
            ]
          },
          "metadata": {},
          "execution_count": 21
        }
      ]
    },
    {
      "cell_type": "code",
      "metadata": {
        "colab": {
          "base_uri": "https://localhost:8080/"
        },
        "id": "oxIMwbikyQOZ",
        "outputId": "789073f1-8fc7-42a3-e1e5-cf7ea6099952"
      },
      "source": [
        "city_data.axes\n",
        "city_data.axes[0]\n",
        "city_data.axes[1]\n",
        "city_data.keys()"
      ],
      "execution_count": null,
      "outputs": [
        {
          "output_type": "execute_result",
          "data": {
            "text/plain": [
              "Index(['revenue', 'employee_count'], dtype='object')"
            ]
          },
          "metadata": {},
          "execution_count": 22
        }
      ]
    },
    {
      "cell_type": "code",
      "metadata": {
        "id": "aansoS9AyNog"
      },
      "source": [],
      "execution_count": null,
      "outputs": []
    },
    {
      "cell_type": "markdown",
      "metadata": {
        "id": "ZjuJNXEoT94R"
      },
      "source": [
        "Agora, vamós adiciona\n",
        "o o dataset da nba que ele selecionará linhas com base nos valores das colunas do conjunto de dados para consultar seus dados. Por exemplo, vamos criar um novo DataFrame que contenha apenas jogos disputados após 2010: "
      ]
    },
    {
      "cell_type": "code",
      "metadata": {
        "colab": {
          "base_uri": "https://localhost:8080/"
        },
        "id": "6WNr2znYUUFT",
        "outputId": "c16aec63-a6e1-4137-a3d9-a5a683a9d08e"
      },
      "source": [
        "current_decade = dados_nba[dados_nba[\"year_id\"] > 2010]\n",
        "current_decade.shape"
      ],
      "execution_count": null,
      "outputs": [
        {
          "output_type": "execute_result",
          "data": {
            "text/plain": [
              "(12658, 24)"
            ]
          },
          "metadata": {},
          "execution_count": 23
        }
      ]
    },
    {
      "cell_type": "markdown",
      "metadata": {
        "id": "oBx6yzp2ecxf"
      },
      "source": [
        "Agora vamos seleciona as linhas que o apresentam valor não nulo:"
      ]
    },
    {
      "cell_type": "code",
      "metadata": {
        "colab": {
          "base_uri": "https://localhost:8080/"
        },
        "id": "7vJ8tCexep4b",
        "outputId": "11b4d6c8-489f-4614-8f7c-52ebd95907be"
      },
      "source": [
        "games_with_notes = dados_nba[dados_nba[\"notes\"].notnull()]\n",
        "games_with_notes.shape"
      ],
      "execution_count": null,
      "outputs": [
        {
          "output_type": "execute_result",
          "data": {
            "text/plain": [
              "(5424, 24)"
            ]
          },
          "metadata": {},
          "execution_count": 24
        }
      ]
    },
    {
      "cell_type": "markdown",
      "metadata": {
        "id": "dzfKzlI3fIIJ"
      },
      "source": [
        "Você também pode usar .notna () para realizar o mesmo objetivo.\n",
        "Você pode até acessar valores do objeto tipo de dados como uma str e executar métodos de string neles:"
      ]
    },
    {
      "cell_type": "code",
      "metadata": {
        "colab": {
          "base_uri": "https://localhost:8080/"
        },
        "id": "jGR-UErJfqJM",
        "outputId": "02a96684-1a79-4a69-83e0-19eb7c802842"
      },
      "source": [
        "ers = dados_nba[dados_nba[\"fran_id\"].str.endswith(\"ers\")]\n",
        "ers.shape"
      ],
      "execution_count": null,
      "outputs": [
        {
          "output_type": "execute_result",
          "data": {
            "text/plain": [
              "(27797, 24)"
            ]
          },
          "metadata": {},
          "execution_count": 25
        }
      ]
    },
    {
      "cell_type": "markdown",
      "metadata": {
        "id": "jk1z1xb5gfcM"
      },
      "source": [
        "usando o comamdo .str.endswith() para filtrar todos os jogos que os time de casa o nome terminas com \"ers\"."
      ]
    },
    {
      "cell_type": "markdown",
      "metadata": {
        "id": "pTaqiFNQg0zi"
      },
      "source": [
        "Fazaaer um pesquisa quais os jogos de Baltimore os dois times pontuaram mais de 100 pontos e depois vamos excluir as duplicatas:"
      ]
    },
    {
      "cell_type": "code",
      "metadata": {
        "colab": {
          "base_uri": "https://localhost:8080/",
          "height": 940
        },
        "id": "jrgQpq-whKDW",
        "outputId": "7b931865-44dd-4d0d-f533-e3a1d31709b6"
      },
      "source": [
        "dados_nba[\n",
        "          (dados_nba[\"_iscopy\"] == 0) &\n",
        "          (dados_nba[\"pts\"] > 0) &\n",
        "          (dados_nba[\"opp_pts\"] > 100) &\n",
        "          (dados_nba[\"team_id\"] == \"BLB\") \n",
        "]"
      ],
      "execution_count": null,
      "outputs": [
        {
          "output_type": "execute_result",
          "data": {
            "text/html": [
              "<div>\n",
              "<style scoped>\n",
              "    .dataframe tbody tr th:only-of-type {\n",
              "        vertical-align: middle;\n",
              "    }\n",
              "\n",
              "    .dataframe tbody tr th {\n",
              "        vertical-align: top;\n",
              "    }\n",
              "\n",
              "    .dataframe thead th {\n",
              "        text-align: right;\n",
              "    }\n",
              "</style>\n",
              "<table border=\"1\" class=\"dataframe\">\n",
              "  <thead>\n",
              "    <tr style=\"text-align: right;\">\n",
              "      <th></th>\n",
              "      <th>gameorder</th>\n",
              "      <th>game_id</th>\n",
              "      <th>lg_id</th>\n",
              "      <th>_iscopy</th>\n",
              "      <th>year_id</th>\n",
              "      <th>date_game</th>\n",
              "      <th>seasongame</th>\n",
              "      <th>is_playoffs</th>\n",
              "      <th>team_id</th>\n",
              "      <th>fran_id</th>\n",
              "      <th>pts</th>\n",
              "      <th>elo_i</th>\n",
              "      <th>elo_n</th>\n",
              "      <th>win_equiv</th>\n",
              "      <th>opp_id</th>\n",
              "      <th>opp_fran</th>\n",
              "      <th>opp_pts</th>\n",
              "      <th>opp_elo_i</th>\n",
              "      <th>opp_elo_n</th>\n",
              "      <th>game_location</th>\n",
              "      <th>game_result</th>\n",
              "      <th>forecast</th>\n",
              "      <th>notes</th>\n",
              "      <th>date_played</th>\n",
              "    </tr>\n",
              "  </thead>\n",
              "  <tbody>\n",
              "    <tr>\n",
              "      <th>1495</th>\n",
              "      <td>748</td>\n",
              "      <td>194901130BLB</td>\n",
              "      <td>NBA</td>\n",
              "      <td>0</td>\n",
              "      <td>1949</td>\n",
              "      <td>1/13/1949</td>\n",
              "      <td>33</td>\n",
              "      <td>0</td>\n",
              "      <td>BLB</td>\n",
              "      <td>Baltimore</td>\n",
              "      <td>85</td>\n",
              "      <td>1513.9349</td>\n",
              "      <td>1496.6301</td>\n",
              "      <td>46.617260</td>\n",
              "      <td>ROC</td>\n",
              "      <td>Kings</td>\n",
              "      <td>102</td>\n",
              "      <td>1566.2607</td>\n",
              "      <td>1583.5656</td>\n",
              "      <td>H</td>\n",
              "      <td>L</td>\n",
              "      <td>0.568181</td>\n",
              "      <td>NaN</td>\n",
              "      <td>1949-01-13</td>\n",
              "    </tr>\n",
              "    <tr>\n",
              "      <th>1683</th>\n",
              "      <td>842</td>\n",
              "      <td>194902170BLB</td>\n",
              "      <td>NBA</td>\n",
              "      <td>0</td>\n",
              "      <td>1949</td>\n",
              "      <td>2/17/1949</td>\n",
              "      <td>50</td>\n",
              "      <td>0</td>\n",
              "      <td>BLB</td>\n",
              "      <td>Baltimore</td>\n",
              "      <td>100</td>\n",
              "      <td>1452.0424</td>\n",
              "      <td>1441.4016</td>\n",
              "      <td>40.859585</td>\n",
              "      <td>PRO</td>\n",
              "      <td>Steamrollers</td>\n",
              "      <td>102</td>\n",
              "      <td>1259.5144</td>\n",
              "      <td>1270.1552</td>\n",
              "      <td>H</td>\n",
              "      <td>L</td>\n",
              "      <td>0.843424</td>\n",
              "      <td>NaN</td>\n",
              "      <td>1949-02-17</td>\n",
              "    </tr>\n",
              "    <tr>\n",
              "      <th>1726</th>\n",
              "      <td>864</td>\n",
              "      <td>194902260BLB</td>\n",
              "      <td>NBA</td>\n",
              "      <td>0</td>\n",
              "      <td>1949</td>\n",
              "      <td>2/26/1949</td>\n",
              "      <td>53</td>\n",
              "      <td>0</td>\n",
              "      <td>BLB</td>\n",
              "      <td>Baltimore</td>\n",
              "      <td>114</td>\n",
              "      <td>1421.9351</td>\n",
              "      <td>1419.4280</td>\n",
              "      <td>38.557545</td>\n",
              "      <td>MNL</td>\n",
              "      <td>Lakers</td>\n",
              "      <td>115</td>\n",
              "      <td>1637.9852</td>\n",
              "      <td>1640.4923</td>\n",
              "      <td>H</td>\n",
              "      <td>L</td>\n",
              "      <td>0.338936</td>\n",
              "      <td>NaN</td>\n",
              "      <td>1949-02-26</td>\n",
              "    </tr>\n",
              "    <tr>\n",
              "      <th>4058</th>\n",
              "      <td>2030</td>\n",
              "      <td>195112210BLB</td>\n",
              "      <td>NBA</td>\n",
              "      <td>0</td>\n",
              "      <td>1952</td>\n",
              "      <td>12/21/1951</td>\n",
              "      <td>24</td>\n",
              "      <td>0</td>\n",
              "      <td>BLB</td>\n",
              "      <td>Baltimore</td>\n",
              "      <td>89</td>\n",
              "      <td>1420.4839</td>\n",
              "      <td>1407.0557</td>\n",
              "      <td>30.434895</td>\n",
              "      <td>BOS</td>\n",
              "      <td>Celtics</td>\n",
              "      <td>106</td>\n",
              "      <td>1543.5579</td>\n",
              "      <td>1556.9861</td>\n",
              "      <td>H</td>\n",
              "      <td>L</td>\n",
              "      <td>0.466843</td>\n",
              "      <td>at Providence RI</td>\n",
              "      <td>1951-12-21</td>\n",
              "    </tr>\n",
              "    <tr>\n",
              "      <th>4296</th>\n",
              "      <td>2149</td>\n",
              "      <td>195202080BLB</td>\n",
              "      <td>NBA</td>\n",
              "      <td>0</td>\n",
              "      <td>1952</td>\n",
              "      <td>2/8/1952</td>\n",
              "      <td>46</td>\n",
              "      <td>0</td>\n",
              "      <td>BLB</td>\n",
              "      <td>Baltimore</td>\n",
              "      <td>83</td>\n",
              "      <td>1321.0188</td>\n",
              "      <td>1310.5110</td>\n",
              "      <td>21.712118</td>\n",
              "      <td>NYK</td>\n",
              "      <td>Knicks</td>\n",
              "      <td>103</td>\n",
              "      <td>1529.6166</td>\n",
              "      <td>1540.1244</td>\n",
              "      <td>H</td>\n",
              "      <td>L</td>\n",
              "      <td>0.348614</td>\n",
              "      <td>at Philadelphia PA</td>\n",
              "      <td>1952-02-08</td>\n",
              "    </tr>\n",
              "    <tr>\n",
              "      <th>4665</th>\n",
              "      <td>2333</td>\n",
              "      <td>195211270BLB</td>\n",
              "      <td>NBA</td>\n",
              "      <td>0</td>\n",
              "      <td>1953</td>\n",
              "      <td>11/27/1952</td>\n",
              "      <td>13</td>\n",
              "      <td>0</td>\n",
              "      <td>BLB</td>\n",
              "      <td>Baltimore</td>\n",
              "      <td>92</td>\n",
              "      <td>1363.8076</td>\n",
              "      <td>1356.6135</td>\n",
              "      <td>25.794765</td>\n",
              "      <td>NYK</td>\n",
              "      <td>Knicks</td>\n",
              "      <td>104</td>\n",
              "      <td>1580.5809</td>\n",
              "      <td>1587.7750</td>\n",
              "      <td>H</td>\n",
              "      <td>L</td>\n",
              "      <td>0.338004</td>\n",
              "      <td>at Philadelphia PA</td>\n",
              "      <td>1952-11-27</td>\n",
              "    </tr>\n",
              "    <tr>\n",
              "      <th>4715</th>\n",
              "      <td>2358</td>\n",
              "      <td>195212060BLB</td>\n",
              "      <td>NBA</td>\n",
              "      <td>0</td>\n",
              "      <td>1953</td>\n",
              "      <td>12/6/1952</td>\n",
              "      <td>18</td>\n",
              "      <td>0</td>\n",
              "      <td>BLB</td>\n",
              "      <td>Baltimore</td>\n",
              "      <td>91</td>\n",
              "      <td>1347.6221</td>\n",
              "      <td>1336.2109</td>\n",
              "      <td>23.985638</td>\n",
              "      <td>FTW</td>\n",
              "      <td>Pistons</td>\n",
              "      <td>103</td>\n",
              "      <td>1452.9038</td>\n",
              "      <td>1464.3149</td>\n",
              "      <td>H</td>\n",
              "      <td>L</td>\n",
              "      <td>0.492400</td>\n",
              "      <td>NaN</td>\n",
              "      <td>1952-12-06</td>\n",
              "    </tr>\n",
              "    <tr>\n",
              "      <th>4780</th>\n",
              "      <td>2391</td>\n",
              "      <td>195212200BLB</td>\n",
              "      <td>NBA</td>\n",
              "      <td>0</td>\n",
              "      <td>1953</td>\n",
              "      <td>12/20/1952</td>\n",
              "      <td>22</td>\n",
              "      <td>0</td>\n",
              "      <td>BLB</td>\n",
              "      <td>Baltimore</td>\n",
              "      <td>99</td>\n",
              "      <td>1323.0144</td>\n",
              "      <td>1320.2793</td>\n",
              "      <td>22.626024</td>\n",
              "      <td>NYK</td>\n",
              "      <td>Knicks</td>\n",
              "      <td>102</td>\n",
              "      <td>1589.5110</td>\n",
              "      <td>1592.2461</td>\n",
              "      <td>H</td>\n",
              "      <td>L</td>\n",
              "      <td>0.277192</td>\n",
              "      <td>NaN</td>\n",
              "      <td>1952-12-20</td>\n",
              "    </tr>\n",
              "    <tr>\n",
              "      <th>4890</th>\n",
              "      <td>2446</td>\n",
              "      <td>195301100BLB</td>\n",
              "      <td>NBA</td>\n",
              "      <td>0</td>\n",
              "      <td>1953</td>\n",
              "      <td>1/10/1953</td>\n",
              "      <td>32</td>\n",
              "      <td>0</td>\n",
              "      <td>BLB</td>\n",
              "      <td>Baltimore</td>\n",
              "      <td>126</td>\n",
              "      <td>1328.6687</td>\n",
              "      <td>1356.6470</td>\n",
              "      <td>25.797792</td>\n",
              "      <td>BOS</td>\n",
              "      <td>Celtics</td>\n",
              "      <td>105</td>\n",
              "      <td>1591.1434</td>\n",
              "      <td>1563.1652</td>\n",
              "      <td>H</td>\n",
              "      <td>W</td>\n",
              "      <td>0.281855</td>\n",
              "      <td>NaN</td>\n",
              "      <td>1953-01-10</td>\n",
              "    </tr>\n",
              "    <tr>\n",
              "      <th>4909</th>\n",
              "      <td>2455</td>\n",
              "      <td>195301140BLB</td>\n",
              "      <td>NBA</td>\n",
              "      <td>0</td>\n",
              "      <td>1953</td>\n",
              "      <td>1/14/1953</td>\n",
              "      <td>34</td>\n",
              "      <td>0</td>\n",
              "      <td>BLB</td>\n",
              "      <td>Baltimore</td>\n",
              "      <td>104</td>\n",
              "      <td>1349.8323</td>\n",
              "      <td>1346.3594</td>\n",
              "      <td>24.876236</td>\n",
              "      <td>MNL</td>\n",
              "      <td>Lakers</td>\n",
              "      <td>112</td>\n",
              "      <td>1665.4396</td>\n",
              "      <td>1668.9125</td>\n",
              "      <td>H</td>\n",
              "      <td>L</td>\n",
              "      <td>0.224238</td>\n",
              "      <td>NaN</td>\n",
              "      <td>1953-01-14</td>\n",
              "    </tr>\n",
              "    <tr>\n",
              "      <th>5026</th>\n",
              "      <td>2514</td>\n",
              "      <td>195302070BLB</td>\n",
              "      <td>NBA</td>\n",
              "      <td>0</td>\n",
              "      <td>1953</td>\n",
              "      <td>2/7/1953</td>\n",
              "      <td>46</td>\n",
              "      <td>0</td>\n",
              "      <td>BLB</td>\n",
              "      <td>Baltimore</td>\n",
              "      <td>98</td>\n",
              "      <td>1331.5853</td>\n",
              "      <td>1327.8528</td>\n",
              "      <td>23.266380</td>\n",
              "      <td>BOS</td>\n",
              "      <td>Celtics</td>\n",
              "      <td>101</td>\n",
              "      <td>1531.2122</td>\n",
              "      <td>1534.9447</td>\n",
              "      <td>H</td>\n",
              "      <td>L</td>\n",
              "      <td>0.360430</td>\n",
              "      <td>NaN</td>\n",
              "      <td>1953-02-07</td>\n",
              "    </tr>\n",
              "    <tr>\n",
              "      <th>5059</th>\n",
              "      <td>2530</td>\n",
              "      <td>195302130BLB</td>\n",
              "      <td>NBA</td>\n",
              "      <td>0</td>\n",
              "      <td>1953</td>\n",
              "      <td>2/13/1953</td>\n",
              "      <td>51</td>\n",
              "      <td>0</td>\n",
              "      <td>BLB</td>\n",
              "      <td>Baltimore</td>\n",
              "      <td>96</td>\n",
              "      <td>1311.2952</td>\n",
              "      <td>1308.0129</td>\n",
              "      <td>21.612337</td>\n",
              "      <td>NYK</td>\n",
              "      <td>Knicks</td>\n",
              "      <td>106</td>\n",
              "      <td>1663.1764</td>\n",
              "      <td>1666.4586</td>\n",
              "      <td>H</td>\n",
              "      <td>L</td>\n",
              "      <td>0.190010</td>\n",
              "      <td>at Boston MA</td>\n",
              "      <td>1953-02-13</td>\n",
              "    </tr>\n",
              "    <tr>\n",
              "      <th>5064</th>\n",
              "      <td>2533</td>\n",
              "      <td>195302140BLB</td>\n",
              "      <td>NBA</td>\n",
              "      <td>0</td>\n",
              "      <td>1953</td>\n",
              "      <td>2/14/1953</td>\n",
              "      <td>52</td>\n",
              "      <td>0</td>\n",
              "      <td>BLB</td>\n",
              "      <td>Baltimore</td>\n",
              "      <td>88</td>\n",
              "      <td>1308.0129</td>\n",
              "      <td>1298.6824</td>\n",
              "      <td>20.861076</td>\n",
              "      <td>FTW</td>\n",
              "      <td>Pistons</td>\n",
              "      <td>102</td>\n",
              "      <td>1488.5692</td>\n",
              "      <td>1497.8998</td>\n",
              "      <td>H</td>\n",
              "      <td>L</td>\n",
              "      <td>0.386104</td>\n",
              "      <td>NaN</td>\n",
              "      <td>1953-02-14</td>\n",
              "    </tr>\n",
              "    <tr>\n",
              "      <th>5208</th>\n",
              "      <td>2605</td>\n",
              "      <td>195303110BLB</td>\n",
              "      <td>NBA</td>\n",
              "      <td>0</td>\n",
              "      <td>1953</td>\n",
              "      <td>3/11/1953</td>\n",
              "      <td>66</td>\n",
              "      <td>0</td>\n",
              "      <td>BLB</td>\n",
              "      <td>Baltimore</td>\n",
              "      <td>107</td>\n",
              "      <td>1284.5239</td>\n",
              "      <td>1282.2396</td>\n",
              "      <td>19.579676</td>\n",
              "      <td>NYK</td>\n",
              "      <td>Knicks</td>\n",
              "      <td>113</td>\n",
              "      <td>1649.1516</td>\n",
              "      <td>1651.4359</td>\n",
              "      <td>H</td>\n",
              "      <td>L</td>\n",
              "      <td>0.178973</td>\n",
              "      <td>at Boston MA</td>\n",
              "      <td>1953-03-11</td>\n",
              "    </tr>\n",
              "    <tr>\n",
              "      <th>5382</th>\n",
              "      <td>2692</td>\n",
              "      <td>195311210BLB</td>\n",
              "      <td>NBA</td>\n",
              "      <td>0</td>\n",
              "      <td>1954</td>\n",
              "      <td>11/21/1953</td>\n",
              "      <td>10</td>\n",
              "      <td>0</td>\n",
              "      <td>BLB</td>\n",
              "      <td>Baltimore</td>\n",
              "      <td>83</td>\n",
              "      <td>1341.8109</td>\n",
              "      <td>1323.2826</td>\n",
              "      <td>22.471680</td>\n",
              "      <td>PHW</td>\n",
              "      <td>Warriors</td>\n",
              "      <td>103</td>\n",
              "      <td>1407.0597</td>\n",
              "      <td>1425.5880</td>\n",
              "      <td>H</td>\n",
              "      <td>L</td>\n",
              "      <td>0.549845</td>\n",
              "      <td>at Raleigh NC</td>\n",
              "      <td>1953-11-21</td>\n",
              "    </tr>\n",
              "    <tr>\n",
              "      <th>5455</th>\n",
              "      <td>2728</td>\n",
              "      <td>195312060BLB</td>\n",
              "      <td>NBA</td>\n",
              "      <td>0</td>\n",
              "      <td>1954</td>\n",
              "      <td>12/6/1953</td>\n",
              "      <td>17</td>\n",
              "      <td>0</td>\n",
              "      <td>BLB</td>\n",
              "      <td>Baltimore</td>\n",
              "      <td>95</td>\n",
              "      <td>1319.6473</td>\n",
              "      <td>1314.3059</td>\n",
              "      <td>21.730190</td>\n",
              "      <td>BOS</td>\n",
              "      <td>Celtics</td>\n",
              "      <td>102</td>\n",
              "      <td>1530.5361</td>\n",
              "      <td>1535.8776</td>\n",
              "      <td>H</td>\n",
              "      <td>L</td>\n",
              "      <td>0.345625</td>\n",
              "      <td>NaN</td>\n",
              "      <td>1953-12-06</td>\n",
              "    </tr>\n",
              "    <tr>\n",
              "      <th>5684</th>\n",
              "      <td>2843</td>\n",
              "      <td>195401280BLB</td>\n",
              "      <td>NBA</td>\n",
              "      <td>0</td>\n",
              "      <td>1954</td>\n",
              "      <td>1/28/1954</td>\n",
              "      <td>45</td>\n",
              "      <td>0</td>\n",
              "      <td>BLB</td>\n",
              "      <td>Baltimore</td>\n",
              "      <td>82</td>\n",
              "      <td>1333.0491</td>\n",
              "      <td>1324.7513</td>\n",
              "      <td>22.594488</td>\n",
              "      <td>MNL</td>\n",
              "      <td>Lakers</td>\n",
              "      <td>104</td>\n",
              "      <td>1606.0645</td>\n",
              "      <td>1614.3622</td>\n",
              "      <td>H</td>\n",
              "      <td>L</td>\n",
              "      <td>0.269737</td>\n",
              "      <td>at Grand Forks ND</td>\n",
              "      <td>1954-01-28</td>\n",
              "    </tr>\n",
              "    <tr>\n",
              "      <th>5825</th>\n",
              "      <td>2913</td>\n",
              "      <td>195402220BLB</td>\n",
              "      <td>NBA</td>\n",
              "      <td>0</td>\n",
              "      <td>1954</td>\n",
              "      <td>2/22/1954</td>\n",
              "      <td>60</td>\n",
              "      <td>0</td>\n",
              "      <td>BLB</td>\n",
              "      <td>Baltimore</td>\n",
              "      <td>110</td>\n",
              "      <td>1303.7493</td>\n",
              "      <td>1301.9685</td>\n",
              "      <td>20.736986</td>\n",
              "      <td>BOS</td>\n",
              "      <td>Celtics</td>\n",
              "      <td>111</td>\n",
              "      <td>1591.4943</td>\n",
              "      <td>1593.2749</td>\n",
              "      <td>H</td>\n",
              "      <td>L</td>\n",
              "      <td>0.253365</td>\n",
              "      <td>at Worcester MA</td>\n",
              "      <td>1954-02-22</td>\n",
              "    </tr>\n",
              "    <tr>\n",
              "      <th>5839</th>\n",
              "      <td>2920</td>\n",
              "      <td>195402250BLB</td>\n",
              "      <td>NBA</td>\n",
              "      <td>0</td>\n",
              "      <td>1954</td>\n",
              "      <td>2/25/1954</td>\n",
              "      <td>62</td>\n",
              "      <td>0</td>\n",
              "      <td>BLB</td>\n",
              "      <td>Baltimore</td>\n",
              "      <td>86</td>\n",
              "      <td>1295.8394</td>\n",
              "      <td>1289.8191</td>\n",
              "      <td>19.788719</td>\n",
              "      <td>ROC</td>\n",
              "      <td>Kings</td>\n",
              "      <td>102</td>\n",
              "      <td>1589.2533</td>\n",
              "      <td>1595.2736</td>\n",
              "      <td>H</td>\n",
              "      <td>L</td>\n",
              "      <td>0.247241</td>\n",
              "      <td>at Philadelphia PA</td>\n",
              "      <td>1954-02-25</td>\n",
              "    </tr>\n",
              "    <tr>\n",
              "      <th>5873</th>\n",
              "      <td>2937</td>\n",
              "      <td>195403030BLB</td>\n",
              "      <td>NBA</td>\n",
              "      <td>0</td>\n",
              "      <td>1954</td>\n",
              "      <td>3/3/1954</td>\n",
              "      <td>64</td>\n",
              "      <td>0</td>\n",
              "      <td>BLB</td>\n",
              "      <td>Baltimore</td>\n",
              "      <td>100</td>\n",
              "      <td>1285.8671</td>\n",
              "      <td>1279.9624</td>\n",
              "      <td>19.041433</td>\n",
              "      <td>MLH</td>\n",
              "      <td>Hawks</td>\n",
              "      <td>103</td>\n",
              "      <td>1370.7719</td>\n",
              "      <td>1376.6765</td>\n",
              "      <td>H</td>\n",
              "      <td>L</td>\n",
              "      <td>0.521710</td>\n",
              "      <td>NaN</td>\n",
              "      <td>1954-03-03</td>\n",
              "    </tr>\n",
              "  </tbody>\n",
              "</table>\n",
              "</div>"
            ],
            "text/plain": [
              "      gameorder       game_id lg_id  _iscopy  year_id   date_game  seasongame  \\\n",
              "1495        748  194901130BLB   NBA        0     1949   1/13/1949          33   \n",
              "1683        842  194902170BLB   NBA        0     1949   2/17/1949          50   \n",
              "1726        864  194902260BLB   NBA        0     1949   2/26/1949          53   \n",
              "4058       2030  195112210BLB   NBA        0     1952  12/21/1951          24   \n",
              "4296       2149  195202080BLB   NBA        0     1952    2/8/1952          46   \n",
              "4665       2333  195211270BLB   NBA        0     1953  11/27/1952          13   \n",
              "4715       2358  195212060BLB   NBA        0     1953   12/6/1952          18   \n",
              "4780       2391  195212200BLB   NBA        0     1953  12/20/1952          22   \n",
              "4890       2446  195301100BLB   NBA        0     1953   1/10/1953          32   \n",
              "4909       2455  195301140BLB   NBA        0     1953   1/14/1953          34   \n",
              "5026       2514  195302070BLB   NBA        0     1953    2/7/1953          46   \n",
              "5059       2530  195302130BLB   NBA        0     1953   2/13/1953          51   \n",
              "5064       2533  195302140BLB   NBA        0     1953   2/14/1953          52   \n",
              "5208       2605  195303110BLB   NBA        0     1953   3/11/1953          66   \n",
              "5382       2692  195311210BLB   NBA        0     1954  11/21/1953          10   \n",
              "5455       2728  195312060BLB   NBA        0     1954   12/6/1953          17   \n",
              "5684       2843  195401280BLB   NBA        0     1954   1/28/1954          45   \n",
              "5825       2913  195402220BLB   NBA        0     1954   2/22/1954          60   \n",
              "5839       2920  195402250BLB   NBA        0     1954   2/25/1954          62   \n",
              "5873       2937  195403030BLB   NBA        0     1954    3/3/1954          64   \n",
              "\n",
              "      is_playoffs team_id    fran_id  pts      elo_i      elo_n  win_equiv  \\\n",
              "1495            0     BLB  Baltimore   85  1513.9349  1496.6301  46.617260   \n",
              "1683            0     BLB  Baltimore  100  1452.0424  1441.4016  40.859585   \n",
              "1726            0     BLB  Baltimore  114  1421.9351  1419.4280  38.557545   \n",
              "4058            0     BLB  Baltimore   89  1420.4839  1407.0557  30.434895   \n",
              "4296            0     BLB  Baltimore   83  1321.0188  1310.5110  21.712118   \n",
              "4665            0     BLB  Baltimore   92  1363.8076  1356.6135  25.794765   \n",
              "4715            0     BLB  Baltimore   91  1347.6221  1336.2109  23.985638   \n",
              "4780            0     BLB  Baltimore   99  1323.0144  1320.2793  22.626024   \n",
              "4890            0     BLB  Baltimore  126  1328.6687  1356.6470  25.797792   \n",
              "4909            0     BLB  Baltimore  104  1349.8323  1346.3594  24.876236   \n",
              "5026            0     BLB  Baltimore   98  1331.5853  1327.8528  23.266380   \n",
              "5059            0     BLB  Baltimore   96  1311.2952  1308.0129  21.612337   \n",
              "5064            0     BLB  Baltimore   88  1308.0129  1298.6824  20.861076   \n",
              "5208            0     BLB  Baltimore  107  1284.5239  1282.2396  19.579676   \n",
              "5382            0     BLB  Baltimore   83  1341.8109  1323.2826  22.471680   \n",
              "5455            0     BLB  Baltimore   95  1319.6473  1314.3059  21.730190   \n",
              "5684            0     BLB  Baltimore   82  1333.0491  1324.7513  22.594488   \n",
              "5825            0     BLB  Baltimore  110  1303.7493  1301.9685  20.736986   \n",
              "5839            0     BLB  Baltimore   86  1295.8394  1289.8191  19.788719   \n",
              "5873            0     BLB  Baltimore  100  1285.8671  1279.9624  19.041433   \n",
              "\n",
              "     opp_id      opp_fran  opp_pts  opp_elo_i  opp_elo_n game_location  \\\n",
              "1495    ROC         Kings      102  1566.2607  1583.5656             H   \n",
              "1683    PRO  Steamrollers      102  1259.5144  1270.1552             H   \n",
              "1726    MNL        Lakers      115  1637.9852  1640.4923             H   \n",
              "4058    BOS       Celtics      106  1543.5579  1556.9861             H   \n",
              "4296    NYK        Knicks      103  1529.6166  1540.1244             H   \n",
              "4665    NYK        Knicks      104  1580.5809  1587.7750             H   \n",
              "4715    FTW       Pistons      103  1452.9038  1464.3149             H   \n",
              "4780    NYK        Knicks      102  1589.5110  1592.2461             H   \n",
              "4890    BOS       Celtics      105  1591.1434  1563.1652             H   \n",
              "4909    MNL        Lakers      112  1665.4396  1668.9125             H   \n",
              "5026    BOS       Celtics      101  1531.2122  1534.9447             H   \n",
              "5059    NYK        Knicks      106  1663.1764  1666.4586             H   \n",
              "5064    FTW       Pistons      102  1488.5692  1497.8998             H   \n",
              "5208    NYK        Knicks      113  1649.1516  1651.4359             H   \n",
              "5382    PHW      Warriors      103  1407.0597  1425.5880             H   \n",
              "5455    BOS       Celtics      102  1530.5361  1535.8776             H   \n",
              "5684    MNL        Lakers      104  1606.0645  1614.3622             H   \n",
              "5825    BOS       Celtics      111  1591.4943  1593.2749             H   \n",
              "5839    ROC         Kings      102  1589.2533  1595.2736             H   \n",
              "5873    MLH         Hawks      103  1370.7719  1376.6765             H   \n",
              "\n",
              "     game_result  forecast               notes date_played  \n",
              "1495           L  0.568181                 NaN  1949-01-13  \n",
              "1683           L  0.843424                 NaN  1949-02-17  \n",
              "1726           L  0.338936                 NaN  1949-02-26  \n",
              "4058           L  0.466843    at Providence RI  1951-12-21  \n",
              "4296           L  0.348614  at Philadelphia PA  1952-02-08  \n",
              "4665           L  0.338004  at Philadelphia PA  1952-11-27  \n",
              "4715           L  0.492400                 NaN  1952-12-06  \n",
              "4780           L  0.277192                 NaN  1952-12-20  \n",
              "4890           W  0.281855                 NaN  1953-01-10  \n",
              "4909           L  0.224238                 NaN  1953-01-14  \n",
              "5026           L  0.360430                 NaN  1953-02-07  \n",
              "5059           L  0.190010        at Boston MA  1953-02-13  \n",
              "5064           L  0.386104                 NaN  1953-02-14  \n",
              "5208           L  0.178973        at Boston MA  1953-03-11  \n",
              "5382           L  0.549845       at Raleigh NC  1953-11-21  \n",
              "5455           L  0.345625                 NaN  1953-12-06  \n",
              "5684           L  0.269737   at Grand Forks ND  1954-01-28  \n",
              "5825           L  0.253365     at Worcester MA  1954-02-22  \n",
              "5839           L  0.247241  at Philadelphia PA  1954-02-25  \n",
              "5873           L  0.521710                 NaN  1954-03-03  "
            ]
          },
          "metadata": {},
          "execution_count": 26
        }
      ]
    },
    {
      "cell_type": "markdown",
      "metadata": {
        "id": "WFQgPmfAh2WO"
      },
      "source": [
        "Aqui, você usa dados_nba [\"_ iscopy\"] == 0 para incluir apenas as entradas que não são cópias."
      ]
    },
    {
      "cell_type": "markdown",
      "metadata": {
        "id": "KhrZGIkYiVPX"
      },
      "source": [
        "# Agrupando e agregando seus dados\n",
        "A biblioteca Pandas Python oferece funções de agrupamento e agregação para ajudar a realizar essa tarefa."
      ]
    },
    {
      "cell_type": "code",
      "metadata": {
        "colab": {
          "base_uri": "https://localhost:8080/"
        },
        "id": "3DLRBQhkjHQh",
        "outputId": "735bc819-7c42-40d9-9a22-e50fce9a3a54"
      },
      "source": [
        "city_revenues.sum()"
      ],
      "execution_count": null,
      "outputs": [
        {
          "output_type": "execute_result",
          "data": {
            "text/plain": [
              "18700"
            ]
          },
          "metadata": {},
          "execution_count": 27
        }
      ]
    },
    {
      "cell_type": "code",
      "metadata": {
        "colab": {
          "base_uri": "https://localhost:8080/"
        },
        "id": "PrEF8xgGiM3H",
        "outputId": "fd0e267f-a03b-406c-dfaf-d67c1964fca5"
      },
      "source": [
        "city_revenues.max()"
      ],
      "execution_count": null,
      "outputs": [
        {
          "output_type": "execute_result",
          "data": {
            "text/plain": [
              "8000"
            ]
          },
          "metadata": {},
          "execution_count": 28
        }
      ]
    },
    {
      "cell_type": "markdown",
      "metadata": {
        "id": "BZ0Y0VYDjmMp"
      },
      "source": [
        "Lembre-se de que uma coluna de um DataFrame é, na verdade, um objeto Series. Por esse motivo, podemós usar essas mesmas funções nas colunas do dados_nba:"
      ]
    },
    {
      "cell_type": "code",
      "metadata": {
        "colab": {
          "base_uri": "https://localhost:8080/"
        },
        "id": "HWKQftVgkAY1",
        "outputId": "64ae0559-4319-421f-cbbc-3feb0c61b56a"
      },
      "source": [
        "points = dados_nba[\"pts\"]\n",
        "type(points)\n",
        "points.sum()"
      ],
      "execution_count": null,
      "outputs": [
        {
          "output_type": "execute_result",
          "data": {
            "text/plain": [
              "12976235"
            ]
          },
          "metadata": {},
          "execution_count": 29
        }
      ]
    },
    {
      "cell_type": "code",
      "metadata": {
        "colab": {
          "base_uri": "https://localhost:8080/"
        },
        "id": "23hYHhtYkKTn",
        "outputId": "d82bf8b6-5b16-46b0-8504-22a3260f4fc6"
      },
      "source": [
        "dados_nba.groupby(\"fran_id\", sort=False)[\"pts\"].sum()"
      ],
      "execution_count": null,
      "outputs": [
        {
          "output_type": "execute_result",
          "data": {
            "text/plain": [
              "fran_id\n",
              "Huskies           3995\n",
              "Knicks          582497\n",
              "Stags            20398\n",
              "Falcons           3797\n",
              "Capitols         22387\n",
              "Celtics         626484\n",
              "Steamrollers     12372\n",
              "Ironmen           3674\n",
              "Bombers          17793\n",
              "Rebels            4474\n",
              "Warriors        591224\n",
              "Baltimore        37219\n",
              "Jets              4482\n",
              "Pistons         572758\n",
              "Lakers          637444\n",
              "Kings           569245\n",
              "Hawks           567261\n",
              "Denver            4818\n",
              "Olympians        22864\n",
              "Redskins          5372\n",
              "Waterloo          4921\n",
              "Packers           6193\n",
              "Sixers          585891\n",
              "Wizards         474809\n",
              "Bulls           437269\n",
              "Thunder         437735\n",
              "Squires          91127\n",
              "Stars            84940\n",
              "Rockets         432504\n",
              "Colonels         94435\n",
              "Pacers          438288\n",
              "Nuggets         445780\n",
              "Spurs           453822\n",
              "Spirits          85874\n",
              "Sounds           75582\n",
              "Floridians       49568\n",
              "Nets            417809\n",
              "Condors          49642\n",
              "Bucks           418326\n",
              "Suns            437486\n",
              "Clippers        380523\n",
              "Cavaliers       380416\n",
              "Trailblazers    402695\n",
              "Sails            30080\n",
              "Jazz            363155\n",
              "Mavericks       309239\n",
              "Pelicans        220794\n",
              "Heat            229103\n",
              "Timberwolves    207693\n",
              "Magic           219436\n",
              "Grizzlies       157683\n",
              "Raptors         158370\n",
              "Hornets          84489\n",
              "Name: pts, dtype: int64"
            ]
          },
          "metadata": {},
          "execution_count": 30
        }
      ]
    },
    {
      "cell_type": "code",
      "metadata": {
        "colab": {
          "base_uri": "https://localhost:8080/"
        },
        "id": "luy7puGikRSs",
        "outputId": "8f0e417d-41c2-4696-e905-b7293e920a80"
      },
      "source": [
        "dados_nba[\n",
        "    (dados_nba[\"fran_id\"] == \"Spurs\") &\n",
        "    (dados_nba[\"year_id\"] > 2010)\n",
        "    ].groupby([\"year_id\", \"game_result\"])[\"game_id\"].count()"
      ],
      "execution_count": null,
      "outputs": [
        {
          "output_type": "execute_result",
          "data": {
            "text/plain": [
              "year_id  game_result\n",
              "2011     L              25\n",
              "         W              63\n",
              "2012     L              20\n",
              "         W              60\n",
              "2013     L              30\n",
              "         W              73\n",
              "2014     L              27\n",
              "         W              78\n",
              "2015     L              31\n",
              "         W              58\n",
              "Name: game_id, dtype: int64"
            ]
          },
          "metadata": {},
          "execution_count": 31
        }
      ]
    },
    {
      "cell_type": "markdown",
      "metadata": {
        "id": "ypQPOzAQktc0"
      },
      "source": [
        "# Manipulando Colunas\n",
        "Você precisará saber como manipular as colunas do seu conjunto de dados em diferentes fases do processo de análise de dados. Você pode adicionar e descartar colunas como parte da fase inicial de limpeza de dados ou posteriormente com base nos insights de sua análise."
      ]
    },
    {
      "cell_type": "code",
      "metadata": {
        "colab": {
          "base_uri": "https://localhost:8080/"
        },
        "id": "Zzl4wnRqlNNf",
        "outputId": "eac36755-933f-4edb-a5d4-e6142533799a"
      },
      "source": [
        "df = dados_nba.copy()\n",
        "df.shape"
      ],
      "execution_count": null,
      "outputs": [
        {
          "output_type": "execute_result",
          "data": {
            "text/plain": [
              "(126314, 24)"
            ]
          },
          "metadata": {},
          "execution_count": 32
        }
      ]
    },
    {
      "cell_type": "markdown",
      "metadata": {
        "id": "-jamXAknlX8a"
      },
      "source": [
        "Você pode definir novas colunas baseado nas já existentes"
      ]
    },
    {
      "cell_type": "code",
      "metadata": {
        "colab": {
          "base_uri": "https://localhost:8080/"
        },
        "id": "S0cjUy44lhYq",
        "outputId": "9343f2fc-0181-4a10-f3fa-599af00ed705"
      },
      "source": [
        "df[\"difference\"] = df.pts - df.opp_pts\n",
        "df.shape"
      ],
      "execution_count": null,
      "outputs": [
        {
          "output_type": "execute_result",
          "data": {
            "text/plain": [
              "(126314, 25)"
            ]
          },
          "metadata": {},
          "execution_count": 33
        }
      ]
    },
    {
      "cell_type": "markdown",
      "metadata": {
        "id": "qnU__SUUlpSR"
      },
      "source": [
        "Criando uma nova coluna para armenezar a difereça de pontos entre colna \"pts\" e a coluna \"opp_pts\""
      ]
    },
    {
      "cell_type": "code",
      "metadata": {
        "colab": {
          "base_uri": "https://localhost:8080/"
        },
        "id": "Yy0hSAgUl1m-",
        "outputId": "e6f5c0a3-c5be-4269-c409-b9c0b87fd4d4"
      },
      "source": [
        "df[\"difference\"].max()"
      ],
      "execution_count": null,
      "outputs": [
        {
          "output_type": "execute_result",
          "data": {
            "text/plain": [
              "68"
            ]
          },
          "metadata": {},
          "execution_count": 34
        }
      ]
    },
    {
      "cell_type": "markdown",
      "metadata": {
        "id": "csRbuJojl-aQ"
      },
      "source": [
        "Podemós os seguintes comandos para renomear as colunas"
      ]
    },
    {
      "cell_type": "code",
      "metadata": {
        "colab": {
          "base_uri": "https://localhost:8080/"
        },
        "id": "ph31AL6SmIlv",
        "outputId": "c999bcbe-884f-49f4-891f-41b9b9e930e1"
      },
      "source": [
        "renamed_df = df.rename(\n",
        "    columns={\"gameorder\": \"ordemdejogo\", \"game_id\": \"id_jogo\", \"game_result\": \"resultado\", \"game_location\": \"localizacao\"}\n",
        ")\n",
        "renamed_df.info()"
      ],
      "execution_count": null,
      "outputs": [
        {
          "output_type": "stream",
          "name": "stdout",
          "text": [
            "<class 'pandas.core.frame.DataFrame'>\n",
            "RangeIndex: 126314 entries, 0 to 126313\n",
            "Data columns (total 25 columns):\n",
            " #   Column       Non-Null Count   Dtype         \n",
            "---  ------       --------------   -----         \n",
            " 0   ordemdejogo  126314 non-null  int64         \n",
            " 1   id_jogo      126314 non-null  object        \n",
            " 2   lg_id        126314 non-null  object        \n",
            " 3   _iscopy      126314 non-null  int64         \n",
            " 4   year_id      126314 non-null  int64         \n",
            " 5   date_game    126314 non-null  object        \n",
            " 6   seasongame   126314 non-null  int64         \n",
            " 7   is_playoffs  126314 non-null  int64         \n",
            " 8   team_id      126314 non-null  object        \n",
            " 9   fran_id      126314 non-null  object        \n",
            " 10  pts          126314 non-null  int64         \n",
            " 11  elo_i        126314 non-null  float64       \n",
            " 12  elo_n        126314 non-null  float64       \n",
            " 13  win_equiv    126314 non-null  float64       \n",
            " 14  opp_id       126314 non-null  object        \n",
            " 15  opp_fran     126314 non-null  object        \n",
            " 16  opp_pts      126314 non-null  int64         \n",
            " 17  opp_elo_i    126314 non-null  float64       \n",
            " 18  opp_elo_n    126314 non-null  float64       \n",
            " 19  localizacao  126314 non-null  object        \n",
            " 20  resultado    126314 non-null  object        \n",
            " 21  forecast     126314 non-null  float64       \n",
            " 22  notes        5424 non-null    object        \n",
            " 23  date_played  126314 non-null  datetime64[ns]\n",
            " 24  difference   126314 non-null  int64         \n",
            "dtypes: datetime64[ns](1), float64(6), int64(8), object(10)\n",
            "memory usage: 24.1+ MB\n"
          ]
        }
      ]
    },
    {
      "cell_type": "markdown",
      "metadata": {
        "id": "0YLT47adnYtl"
      },
      "source": [
        "Você pode excluir as colunas com o seguinte comando"
      ]
    },
    {
      "cell_type": "code",
      "metadata": {
        "colab": {
          "base_uri": "https://localhost:8080/"
        },
        "id": "BumGHHhWnojy",
        "outputId": "7a1e2b21-cd26-4b0a-dc1d-1781c61b9f6f"
      },
      "source": [
        "df.shape"
      ],
      "execution_count": null,
      "outputs": [
        {
          "output_type": "execute_result",
          "data": {
            "text/plain": [
              "(126314, 25)"
            ]
          },
          "metadata": {},
          "execution_count": 36
        }
      ]
    },
    {
      "cell_type": "code",
      "metadata": {
        "colab": {
          "base_uri": "https://localhost:8080/"
        },
        "id": "59qAB8osnSYm",
        "outputId": "f51e5473-315f-444c-e788-09f7b1cbbb45"
      },
      "source": [
        "df.shape\n",
        "elo_columns = [\"elo_i\", \"elo_n\", \"opp_elo_i\", \"opp_elo_n\"]\n",
        "df.drop(elo_columns, inplace=True, axis=1)\n",
        "df.shape"
      ],
      "execution_count": null,
      "outputs": [
        {
          "output_type": "execute_result",
          "data": {
            "text/plain": [
              "(126314, 21)"
            ]
          },
          "metadata": {},
          "execution_count": 37
        }
      ]
    },
    {
      "cell_type": "markdown",
      "metadata": {
        "id": "Ypno7r4Noa5m"
      },
      "source": [
        "#Especificando o tipo de dados \n",
        "Com os seguintes comandos você pode trabalhar os tipos de dados e até alterar o tipo de dados:"
      ]
    },
    {
      "cell_type": "code",
      "metadata": {
        "colab": {
          "base_uri": "https://localhost:8080/"
        },
        "id": "HHXYrgzBpCVD",
        "outputId": "837c333d-0433-4d84-be77-83f67078e4bb"
      },
      "source": [
        "df.info()"
      ],
      "execution_count": null,
      "outputs": [
        {
          "output_type": "stream",
          "name": "stdout",
          "text": [
            "<class 'pandas.core.frame.DataFrame'>\n",
            "RangeIndex: 126314 entries, 0 to 126313\n",
            "Data columns (total 21 columns):\n",
            " #   Column         Non-Null Count   Dtype         \n",
            "---  ------         --------------   -----         \n",
            " 0   gameorder      126314 non-null  int64         \n",
            " 1   game_id        126314 non-null  object        \n",
            " 2   lg_id          126314 non-null  object        \n",
            " 3   _iscopy        126314 non-null  int64         \n",
            " 4   year_id        126314 non-null  int64         \n",
            " 5   date_game      126314 non-null  object        \n",
            " 6   seasongame     126314 non-null  int64         \n",
            " 7   is_playoffs    126314 non-null  int64         \n",
            " 8   team_id        126314 non-null  object        \n",
            " 9   fran_id        126314 non-null  object        \n",
            " 10  pts            126314 non-null  int64         \n",
            " 11  win_equiv      126314 non-null  float64       \n",
            " 12  opp_id         126314 non-null  object        \n",
            " 13  opp_fran       126314 non-null  object        \n",
            " 14  opp_pts        126314 non-null  int64         \n",
            " 15  game_location  126314 non-null  object        \n",
            " 16  game_result    126314 non-null  object        \n",
            " 17  forecast       126314 non-null  float64       \n",
            " 18  notes          5424 non-null    object        \n",
            " 19  date_played    126314 non-null  datetime64[ns]\n",
            " 20  difference     126314 non-null  int64         \n",
            "dtypes: datetime64[ns](1), float64(2), int64(8), object(10)\n",
            "memory usage: 20.2+ MB\n"
          ]
        }
      ]
    },
    {
      "cell_type": "markdown",
      "metadata": {
        "id": "TTabkXoDpILY"
      },
      "source": [
        "Convertendo a coluna data_game para datetime"
      ]
    },
    {
      "cell_type": "code",
      "metadata": {
        "id": "3DOgezhOpNdH"
      },
      "source": [
        "df[\"date_game\"] = pd.to_datetime(df[\"date_game\"])"
      ],
      "execution_count": null,
      "outputs": []
    },
    {
      "cell_type": "code",
      "metadata": {
        "colab": {
          "base_uri": "https://localhost:8080/"
        },
        "id": "Smnt2geyjx47",
        "outputId": "1744e0fe-7b62-4c00-c6bd-bdab140daf4e"
      },
      "source": [
        "df[\"game_location\"].nunique()"
      ],
      "execution_count": null,
      "outputs": [
        {
          "output_type": "execute_result",
          "data": {
            "text/plain": [
              "3"
            ]
          },
          "metadata": {},
          "execution_count": 40
        }
      ]
    },
    {
      "cell_type": "markdown",
      "metadata": {
        "id": "SykWRUwRtxUy"
      },
      "source": [
        "A coluna game_location só pode ter 3 tipos diferentes de valor"
      ]
    },
    {
      "cell_type": "code",
      "metadata": {
        "colab": {
          "base_uri": "https://localhost:8080/"
        },
        "id": "yR1lNq0kt9Q3",
        "outputId": "955e3760-a44b-4866-f242-b91dac291cbe"
      },
      "source": [
        "df[\"game_location\"].value_counts()"
      ],
      "execution_count": null,
      "outputs": [
        {
          "output_type": "execute_result",
          "data": {
            "text/plain": [
              "A    63138\n",
              "H    63138\n",
              "N       38\n",
              "Name: game_location, dtype: int64"
            ]
          },
          "metadata": {},
          "execution_count": 41
        }
      ]
    },
    {
      "cell_type": "code",
      "metadata": {
        "colab": {
          "base_uri": "https://localhost:8080/"
        },
        "id": "zl_gtViAuMYL",
        "outputId": "b305bbe9-7fd6-4a00-ace7-04483d609043"
      },
      "source": [
        "df[\"game_location\"] = pd.Categorical(df[\"game_location\"])\n",
        "df[\"game_location\"].dtype"
      ],
      "execution_count": null,
      "outputs": [
        {
          "output_type": "execute_result",
          "data": {
            "text/plain": [
              "CategoricalDtype(categories=['A', 'H', 'N'], ordered=False)"
            ]
          },
          "metadata": {},
          "execution_count": 42
        }
      ]
    },
    {
      "cell_type": "markdown",
      "metadata": {
        "id": "NEfpvdPduVoR"
      },
      "source": [
        "Categorizando os dados com o tipo de dado \"categorical\" tem vantagens sobre o texto não estruturado, como na alocação de memória."
      ]
    },
    {
      "cell_type": "markdown",
      "metadata": {
        "id": "9XOmy0r4u8S4"
      },
      "source": [
        "# Combinando múltiplos datasets\n",
        "\n",
        "Anteriormente, você combinou dois objetos Series em um DataFrame com base em seus índices. Agora, você vai dar um passo adiante e usar .concat () para combinar city_data com outro DataFrame. Digamos que você tenha conseguido coletar alguns dados sobre mais duas cidades: Anteriormente, você combinou dois objetos Series em um DataFrame com base em seus índices. Agora, você vai dar um passo adiante e usar .concat () para combinar city_data com outro DataFrame. Digamos que você tenha conseguido coletar alguns dados sobre mais duas cidades: "
      ]
    },
    {
      "cell_type": "code",
      "metadata": {
        "id": "nKUcHnxovnUq"
      },
      "source": [
        "further_city_data = pd.DataFrame(\n",
        "    {\"revenue\": [7000, 3400], \"employee_count\":[2, 2]},\n",
        "    index=[\"New York\", \"Barcelona\"]\n",
        ")\n"
      ],
      "execution_count": null,
      "outputs": []
    },
    {
      "cell_type": "markdown",
      "metadata": {
        "id": "EOmWnu8pv_lj"
      },
      "source": [
        "O segundo data frame contém a cidade de barcelona e nova york"
      ]
    },
    {
      "cell_type": "code",
      "metadata": {
        "colab": {
          "base_uri": "https://localhost:8080/",
          "height": 206
        },
        "id": "QWg06Hirv8tu",
        "outputId": "19aa2f82-4b32-4da2-c0df-5e97c6a57d2f"
      },
      "source": [
        "all_city_data = pd.concat([city_data, further_city_data], sort=False)\n",
        "all_city_data"
      ],
      "execution_count": null,
      "outputs": [
        {
          "output_type": "execute_result",
          "data": {
            "text/html": [
              "<div>\n",
              "<style scoped>\n",
              "    .dataframe tbody tr th:only-of-type {\n",
              "        vertical-align: middle;\n",
              "    }\n",
              "\n",
              "    .dataframe tbody tr th {\n",
              "        vertical-align: top;\n",
              "    }\n",
              "\n",
              "    .dataframe thead th {\n",
              "        text-align: right;\n",
              "    }\n",
              "</style>\n",
              "<table border=\"1\" class=\"dataframe\">\n",
              "  <thead>\n",
              "    <tr style=\"text-align: right;\">\n",
              "      <th></th>\n",
              "      <th>revenue</th>\n",
              "      <th>employee_count</th>\n",
              "    </tr>\n",
              "  </thead>\n",
              "  <tbody>\n",
              "    <tr>\n",
              "      <th>Amsterdam</th>\n",
              "      <td>4200</td>\n",
              "      <td>5.0</td>\n",
              "    </tr>\n",
              "    <tr>\n",
              "      <th>Tokyo</th>\n",
              "      <td>6500</td>\n",
              "      <td>8.0</td>\n",
              "    </tr>\n",
              "    <tr>\n",
              "      <th>Toronto</th>\n",
              "      <td>8000</td>\n",
              "      <td>NaN</td>\n",
              "    </tr>\n",
              "    <tr>\n",
              "      <th>New York</th>\n",
              "      <td>7000</td>\n",
              "      <td>2.0</td>\n",
              "    </tr>\n",
              "    <tr>\n",
              "      <th>Barcelona</th>\n",
              "      <td>3400</td>\n",
              "      <td>2.0</td>\n",
              "    </tr>\n",
              "  </tbody>\n",
              "</table>\n",
              "</div>"
            ],
            "text/plain": [
              "           revenue  employee_count\n",
              "Amsterdam     4200             5.0\n",
              "Tokyo         6500             8.0\n",
              "Toronto       8000             NaN\n",
              "New York      7000             2.0\n",
              "Barcelona     3400             2.0"
            ]
          },
          "metadata": {},
          "execution_count": 44
        }
      ]
    },
    {
      "cell_type": "markdown",
      "metadata": {
        "id": "pcYbxOxoyqnf"
      },
      "source": [
        "Por padrão, concat () combina ao longo do eixo = 0. Em outras palavras, ele anexa linhas. Você também pode usá-lo para anexar colunas, fornecendo o parâmetro eixo = 1:"
      ]
    },
    {
      "cell_type": "code",
      "metadata": {
        "colab": {
          "base_uri": "https://localhost:8080/",
          "height": 238
        },
        "id": "UJkQui3CyruD",
        "outputId": "3c18c458-bbaf-4f0d-90b6-29d2bd489ae5"
      },
      "source": [
        "city_countries = pd.DataFrame({\n",
        "    \"country\": [\"Holland\", \"Japan\", \"Holland\", \"Canada\", \"Spain\"],\n",
        "    \"capital\": [1, 1, 0, 0, 0]},\n",
        "    index=[\"Amsterdam\", \"Tokyo\", \"Rotterdam\", \"Toronto\", \"Barcelona\"]\n",
        ")\n",
        "cities = pd.concat([all_city_data, city_countries], axis=1, sort=False)\n",
        "cities"
      ],
      "execution_count": null,
      "outputs": [
        {
          "output_type": "execute_result",
          "data": {
            "text/html": [
              "<div>\n",
              "<style scoped>\n",
              "    .dataframe tbody tr th:only-of-type {\n",
              "        vertical-align: middle;\n",
              "    }\n",
              "\n",
              "    .dataframe tbody tr th {\n",
              "        vertical-align: top;\n",
              "    }\n",
              "\n",
              "    .dataframe thead th {\n",
              "        text-align: right;\n",
              "    }\n",
              "</style>\n",
              "<table border=\"1\" class=\"dataframe\">\n",
              "  <thead>\n",
              "    <tr style=\"text-align: right;\">\n",
              "      <th></th>\n",
              "      <th>revenue</th>\n",
              "      <th>employee_count</th>\n",
              "      <th>country</th>\n",
              "      <th>capital</th>\n",
              "    </tr>\n",
              "  </thead>\n",
              "  <tbody>\n",
              "    <tr>\n",
              "      <th>Amsterdam</th>\n",
              "      <td>4200.0</td>\n",
              "      <td>5.0</td>\n",
              "      <td>Holland</td>\n",
              "      <td>1.0</td>\n",
              "    </tr>\n",
              "    <tr>\n",
              "      <th>Tokyo</th>\n",
              "      <td>6500.0</td>\n",
              "      <td>8.0</td>\n",
              "      <td>Japan</td>\n",
              "      <td>1.0</td>\n",
              "    </tr>\n",
              "    <tr>\n",
              "      <th>Toronto</th>\n",
              "      <td>8000.0</td>\n",
              "      <td>NaN</td>\n",
              "      <td>Canada</td>\n",
              "      <td>0.0</td>\n",
              "    </tr>\n",
              "    <tr>\n",
              "      <th>New York</th>\n",
              "      <td>7000.0</td>\n",
              "      <td>2.0</td>\n",
              "      <td>NaN</td>\n",
              "      <td>NaN</td>\n",
              "    </tr>\n",
              "    <tr>\n",
              "      <th>Barcelona</th>\n",
              "      <td>3400.0</td>\n",
              "      <td>2.0</td>\n",
              "      <td>Spain</td>\n",
              "      <td>0.0</td>\n",
              "    </tr>\n",
              "    <tr>\n",
              "      <th>Rotterdam</th>\n",
              "      <td>NaN</td>\n",
              "      <td>NaN</td>\n",
              "      <td>Holland</td>\n",
              "      <td>0.0</td>\n",
              "    </tr>\n",
              "  </tbody>\n",
              "</table>\n",
              "</div>"
            ],
            "text/plain": [
              "           revenue  employee_count  country  capital\n",
              "Amsterdam   4200.0             5.0  Holland      1.0\n",
              "Tokyo       6500.0             8.0    Japan      1.0\n",
              "Toronto     8000.0             NaN   Canada      0.0\n",
              "New York    7000.0             2.0      NaN      NaN\n",
              "Barcelona   3400.0             2.0    Spain      0.0\n",
              "Rotterdam      NaN             NaN  Holland      0.0"
            ]
          },
          "metadata": {},
          "execution_count": 45
        }
      ]
    },
    {
      "cell_type": "markdown",
      "metadata": {
        "id": "N_TwabfpzRQ4"
      },
      "source": [
        "#Visualizando o Dataframe usando Pandas e matlab"
      ]
    },
    {
      "cell_type": "code",
      "metadata": {
        "id": "vpt3XlxCzYJx"
      },
      "source": [
        "%matplotlib inline"
      ],
      "execution_count": null,
      "outputs": []
    },
    {
      "cell_type": "code",
      "metadata": {
        "colab": {
          "base_uri": "https://localhost:8080/",
          "height": 298
        },
        "id": "oEhbURpAvyja",
        "outputId": "4c26ab46-9034-4565-b42e-f03d1c91d53d"
      },
      "source": [
        "dados_nba[dados_nba[\"fran_id\"] == \"Knicks\"].groupby(\"year_id\")[\"pts\"].sum().plot()"
      ],
      "execution_count": null,
      "outputs": [
        {
          "output_type": "execute_result",
          "data": {
            "text/plain": [
              "<matplotlib.axes._subplots.AxesSubplot at 0x7fb8f645af90>"
            ]
          },
          "metadata": {},
          "execution_count": 47
        },
        {
          "output_type": "display_data",
          "data": {
            "image/png": "[encoded data removed]",
            "text/plain": [
              "<Figure size 432x288 with 1 Axes>"
            ]
          },
          "metadata": {
            "needs_background": "light"
          }
        }
      ]
    },
    {
      "cell_type": "code",
      "metadata": {
        "colab": {
          "base_uri": "https://localhost:8080/",
          "height": 315
        },
        "id": "qpRXxDhUzjez",
        "outputId": "15ac6ebd-c4f1-4845-b68e-3ab76dbf35f3"
      },
      "source": [
        "dados_nba[\"fran_id\"].value_counts().head(10).plot(kind=\"bar\")"
      ],
      "execution_count": null,
      "outputs": [
        {
          "output_type": "execute_result",
          "data": {
            "text/plain": [
              "<matplotlib.axes._subplots.AxesSubplot at 0x7fb8f6368390>"
            ]
          },
          "metadata": {},
          "execution_count": 48
        },
        {
          "output_type": "display_data",
          "data": {
            "image/png": "[encoded data removed]",
            "text/plain": [
              "<Figure size 432x288 with 1 Axes>"
            ]
          },
          "metadata": {
            "needs_background": "light"
          }
        }
      ]
    },
    {
      "cell_type": "markdown",
      "metadata": {
        "id": "yqpZjzs50r-j"
      },
      "source": [
        "##Parte 2\n",
        "Analise de dados csv covid-geografy é uma analise geograficca de uma série de dados sobre casos de Covid-19 na area rural na Carolina do Sul."
      ]
    },
    {
      "cell_type": "code",
      "metadata": {
        "colab": {
          "base_uri": "https://localhost:8080/",
          "height": 424
        },
        "id": "T-Y-oMeN1Jpg",
        "outputId": "6e953eb9-4533-4789-d584-81301c736662"
      },
      "source": [
        "dados_covid = pd.read_csv('https://raw.githubusercontent.com/fivethirtyeight/data/master/covid-geography/mmsa-icu-beds.csv')\n",
        "dados_covid"
      ],
      "execution_count": null,
      "outputs": [
        {
          "output_type": "execute_result",
          "data": {
            "text/html": [
              "<div>\n",
              "<style scoped>\n",
              "    .dataframe tbody tr th:only-of-type {\n",
              "        vertical-align: middle;\n",
              "    }\n",
              "\n",
              "    .dataframe tbody tr th {\n",
              "        vertical-align: top;\n",
              "    }\n",
              "\n",
              "    .dataframe thead th {\n",
              "        text-align: right;\n",
              "    }\n",
              "</style>\n",
              "<table border=\"1\" class=\"dataframe\">\n",
              "  <thead>\n",
              "    <tr style=\"text-align: right;\">\n",
              "      <th></th>\n",
              "      <th>MMSA</th>\n",
              "      <th>total_percent_at_risk</th>\n",
              "      <th>high_risk_per_ICU_bed</th>\n",
              "      <th>high_risk_per_hospital</th>\n",
              "      <th>icu_beds</th>\n",
              "      <th>hospitals</th>\n",
              "      <th>total_at_risk</th>\n",
              "    </tr>\n",
              "  </thead>\n",
              "  <tbody>\n",
              "    <tr>\n",
              "      <th>0</th>\n",
              "      <td>San Juan-Carolina-Caguas, PR</td>\n",
              "      <td>52.88%</td>\n",
              "      <td>NaN</td>\n",
              "      <td>NaN</td>\n",
              "      <td>NaN</td>\n",
              "      <td>NaN</td>\n",
              "      <td>923725.203</td>\n",
              "    </tr>\n",
              "    <tr>\n",
              "      <th>1</th>\n",
              "      <td>Manhattan, KS</td>\n",
              "      <td>47.29%</td>\n",
              "      <td>4489.848750</td>\n",
              "      <td>8979.69750</td>\n",
              "      <td>8.0</td>\n",
              "      <td>4.0</td>\n",
              "      <td>35918.790</td>\n",
              "    </tr>\n",
              "    <tr>\n",
              "      <th>2</th>\n",
              "      <td>Hilton Head Island-Bluffton-Beaufort, SC</td>\n",
              "      <td>62.72%</td>\n",
              "      <td>3904.163571</td>\n",
              "      <td>36438.86000</td>\n",
              "      <td>28.0</td>\n",
              "      <td>3.0</td>\n",
              "      <td>109316.580</td>\n",
              "    </tr>\n",
              "    <tr>\n",
              "      <th>3</th>\n",
              "      <td>Kahului-Wailuku-Lahaina, HI</td>\n",
              "      <td>59.13%</td>\n",
              "      <td>3860.557000</td>\n",
              "      <td>19302.78500</td>\n",
              "      <td>20.0</td>\n",
              "      <td>4.0</td>\n",
              "      <td>77211.140</td>\n",
              "    </tr>\n",
              "    <tr>\n",
              "      <th>4</th>\n",
              "      <td>Spartanburg, SC</td>\n",
              "      <td>66.12%</td>\n",
              "      <td>3786.115556</td>\n",
              "      <td>85187.60000</td>\n",
              "      <td>45.0</td>\n",
              "      <td>2.0</td>\n",
              "      <td>170375.200</td>\n",
              "    </tr>\n",
              "    <tr>\n",
              "      <th>...</th>\n",
              "      <td>...</td>\n",
              "      <td>...</td>\n",
              "      <td>...</td>\n",
              "      <td>...</td>\n",
              "      <td>...</td>\n",
              "      <td>...</td>\n",
              "      <td>...</td>\n",
              "    </tr>\n",
              "    <tr>\n",
              "      <th>131</th>\n",
              "      <td>Charleston, WV</td>\n",
              "      <td>75.97%</td>\n",
              "      <td>831.689744</td>\n",
              "      <td>25948.72000</td>\n",
              "      <td>156.0</td>\n",
              "      <td>5.0</td>\n",
              "      <td>129743.600</td>\n",
              "    </tr>\n",
              "    <tr>\n",
              "      <th>132</th>\n",
              "      <td>Duluth, MN-WI</td>\n",
              "      <td>60.34%</td>\n",
              "      <td>730.523135</td>\n",
              "      <td>12286.07091</td>\n",
              "      <td>185.0</td>\n",
              "      <td>11.0</td>\n",
              "      <td>135146.780</td>\n",
              "    </tr>\n",
              "    <tr>\n",
              "      <th>133</th>\n",
              "      <td>Reno, NV</td>\n",
              "      <td>57.86%</td>\n",
              "      <td>638.824743</td>\n",
              "      <td>42290.19800</td>\n",
              "      <td>331.0</td>\n",
              "      <td>5.0</td>\n",
              "      <td>211450.990</td>\n",
              "    </tr>\n",
              "    <tr>\n",
              "      <th>134</th>\n",
              "      <td>Gainesville, FL</td>\n",
              "      <td>56.38%</td>\n",
              "      <td>621.449952</td>\n",
              "      <td>65252.24500</td>\n",
              "      <td>210.0</td>\n",
              "      <td>2.0</td>\n",
              "      <td>130504.490</td>\n",
              "    </tr>\n",
              "    <tr>\n",
              "      <th>135</th>\n",
              "      <td>Rochester, MN</td>\n",
              "      <td>54.72%</td>\n",
              "      <td>413.667706</td>\n",
              "      <td>22544.89000</td>\n",
              "      <td>218.0</td>\n",
              "      <td>4.0</td>\n",
              "      <td>90179.560</td>\n",
              "    </tr>\n",
              "  </tbody>\n",
              "</table>\n",
              "<p>136 rows × 7 columns</p>\n",
              "</div>"
            ],
            "text/plain": [
              "                                         MMSA total_percent_at_risk  \\\n",
              "0                San Juan-Carolina-Caguas, PR                52.88%   \n",
              "1                               Manhattan, KS                47.29%   \n",
              "2    Hilton Head Island-Bluffton-Beaufort, SC                62.72%   \n",
              "3                 Kahului-Wailuku-Lahaina, HI                59.13%   \n",
              "4                             Spartanburg, SC                66.12%   \n",
              "..                                        ...                   ...   \n",
              "131                            Charleston, WV                75.97%   \n",
              "132                             Duluth, MN-WI                60.34%   \n",
              "133                                  Reno, NV                57.86%   \n",
              "134                           Gainesville, FL                56.38%   \n",
              "135                             Rochester, MN                54.72%   \n",
              "\n",
              "     high_risk_per_ICU_bed  high_risk_per_hospital  icu_beds  hospitals  \\\n",
              "0                      NaN                     NaN       NaN        NaN   \n",
              "1              4489.848750              8979.69750       8.0        4.0   \n",
              "2              3904.163571             36438.86000      28.0        3.0   \n",
              "3              3860.557000             19302.78500      20.0        4.0   \n",
              "4              3786.115556             85187.60000      45.0        2.0   \n",
              "..                     ...                     ...       ...        ...   \n",
              "131             831.689744             25948.72000     156.0        5.0   \n",
              "132             730.523135             12286.07091     185.0       11.0   \n",
              "133             638.824743             42290.19800     331.0        5.0   \n",
              "134             621.449952             65252.24500     210.0        2.0   \n",
              "135             413.667706             22544.89000     218.0        4.0   \n",
              "\n",
              "     total_at_risk  \n",
              "0       923725.203  \n",
              "1        35918.790  \n",
              "2       109316.580  \n",
              "3        77211.140  \n",
              "4       170375.200  \n",
              "..             ...  \n",
              "131     129743.600  \n",
              "132     135146.780  \n",
              "133     211450.990  \n",
              "134     130504.490  \n",
              "135      90179.560  \n",
              "\n",
              "[136 rows x 7 columns]"
            ]
          },
          "metadata": {},
          "execution_count": 49
        }
      ]
    },
    {
      "cell_type": "code",
      "metadata": {
        "colab": {
          "base_uri": "https://localhost:8080/",
          "height": 206
        },
        "id": "SZV2We2v2kG-",
        "outputId": "c85c71ee-80d3-4e41-dae8-fcaf9258c258"
      },
      "source": [
        "dados_covid.head()"
      ],
      "execution_count": null,
      "outputs": [
        {
          "output_type": "execute_result",
          "data": {
            "text/html": [
              "<div>\n",
              "<style scoped>\n",
              "    .dataframe tbody tr th:only-of-type {\n",
              "        vertical-align: middle;\n",
              "    }\n",
              "\n",
              "    .dataframe tbody tr th {\n",
              "        vertical-align: top;\n",
              "    }\n",
              "\n",
              "    .dataframe thead th {\n",
              "        text-align: right;\n",
              "    }\n",
              "</style>\n",
              "<table border=\"1\" class=\"dataframe\">\n",
              "  <thead>\n",
              "    <tr style=\"text-align: right;\">\n",
              "      <th></th>\n",
              "      <th>MMSA</th>\n",
              "      <th>total_percent_at_risk</th>\n",
              "      <th>high_risk_per_ICU_bed</th>\n",
              "      <th>high_risk_per_hospital</th>\n",
              "      <th>icu_beds</th>\n",
              "      <th>hospitals</th>\n",
              "      <th>total_at_risk</th>\n",
              "    </tr>\n",
              "  </thead>\n",
              "  <tbody>\n",
              "    <tr>\n",
              "      <th>0</th>\n",
              "      <td>San Juan-Carolina-Caguas, PR</td>\n",
              "      <td>52.88%</td>\n",
              "      <td>NaN</td>\n",
              "      <td>NaN</td>\n",
              "      <td>NaN</td>\n",
              "      <td>NaN</td>\n",
              "      <td>923725.203</td>\n",
              "    </tr>\n",
              "    <tr>\n",
              "      <th>1</th>\n",
              "      <td>Manhattan, KS</td>\n",
              "      <td>47.29%</td>\n",
              "      <td>4489.848750</td>\n",
              "      <td>8979.6975</td>\n",
              "      <td>8.0</td>\n",
              "      <td>4.0</td>\n",
              "      <td>35918.790</td>\n",
              "    </tr>\n",
              "    <tr>\n",
              "      <th>2</th>\n",
              "      <td>Hilton Head Island-Bluffton-Beaufort, SC</td>\n",
              "      <td>62.72%</td>\n",
              "      <td>3904.163571</td>\n",
              "      <td>36438.8600</td>\n",
              "      <td>28.0</td>\n",
              "      <td>3.0</td>\n",
              "      <td>109316.580</td>\n",
              "    </tr>\n",
              "    <tr>\n",
              "      <th>3</th>\n",
              "      <td>Kahului-Wailuku-Lahaina, HI</td>\n",
              "      <td>59.13%</td>\n",
              "      <td>3860.557000</td>\n",
              "      <td>19302.7850</td>\n",
              "      <td>20.0</td>\n",
              "      <td>4.0</td>\n",
              "      <td>77211.140</td>\n",
              "    </tr>\n",
              "    <tr>\n",
              "      <th>4</th>\n",
              "      <td>Spartanburg, SC</td>\n",
              "      <td>66.12%</td>\n",
              "      <td>3786.115556</td>\n",
              "      <td>85187.6000</td>\n",
              "      <td>45.0</td>\n",
              "      <td>2.0</td>\n",
              "      <td>170375.200</td>\n",
              "    </tr>\n",
              "  </tbody>\n",
              "</table>\n",
              "</div>"
            ],
            "text/plain": [
              "                                       MMSA total_percent_at_risk  \\\n",
              "0              San Juan-Carolina-Caguas, PR                52.88%   \n",
              "1                             Manhattan, KS                47.29%   \n",
              "2  Hilton Head Island-Bluffton-Beaufort, SC                62.72%   \n",
              "3               Kahului-Wailuku-Lahaina, HI                59.13%   \n",
              "4                           Spartanburg, SC                66.12%   \n",
              "\n",
              "   high_risk_per_ICU_bed  high_risk_per_hospital  icu_beds  hospitals  \\\n",
              "0                    NaN                     NaN       NaN        NaN   \n",
              "1            4489.848750               8979.6975       8.0        4.0   \n",
              "2            3904.163571              36438.8600      28.0        3.0   \n",
              "3            3860.557000              19302.7850      20.0        4.0   \n",
              "4            3786.115556              85187.6000      45.0        2.0   \n",
              "\n",
              "   total_at_risk  \n",
              "0     923725.203  \n",
              "1      35918.790  \n",
              "2     109316.580  \n",
              "3      77211.140  \n",
              "4     170375.200  "
            ]
          },
          "metadata": {},
          "execution_count": 50
        }
      ]
    },
    {
      "cell_type": "code",
      "metadata": {
        "colab": {
          "base_uri": "https://localhost:8080/"
        },
        "id": "ftOljzU52zjz",
        "outputId": "215686ec-6591-46d0-fb6d-90c96392046e"
      },
      "source": [
        "dados_covid.info()"
      ],
      "execution_count": null,
      "outputs": [
        {
          "output_type": "stream",
          "name": "stdout",
          "text": [
            "<class 'pandas.core.frame.DataFrame'>\n",
            "RangeIndex: 136 entries, 0 to 135\n",
            "Data columns (total 7 columns):\n",
            " #   Column                  Non-Null Count  Dtype  \n",
            "---  ------                  --------------  -----  \n",
            " 0   MMSA                    136 non-null    object \n",
            " 1   total_percent_at_risk   136 non-null    object \n",
            " 2   high_risk_per_ICU_bed   135 non-null    float64\n",
            " 3   high_risk_per_hospital  135 non-null    float64\n",
            " 4   icu_beds                135 non-null    float64\n",
            " 5   hospitals               135 non-null    float64\n",
            " 6   total_at_risk           136 non-null    float64\n",
            "dtypes: float64(5), object(2)\n",
            "memory usage: 7.6+ KB\n"
          ]
        }
      ]
    },
    {
      "cell_type": "code",
      "metadata": {
        "colab": {
          "base_uri": "https://localhost:8080/",
          "height": 300
        },
        "id": "ZnDl5SoO28Z7",
        "outputId": "b0ec79fb-1fad-4ca9-8e0d-09e17a88b213"
      },
      "source": [
        "dados_covid.describe()"
      ],
      "execution_count": null,
      "outputs": [
        {
          "output_type": "execute_result",
          "data": {
            "text/html": [
              "<div>\n",
              "<style scoped>\n",
              "    .dataframe tbody tr th:only-of-type {\n",
              "        vertical-align: middle;\n",
              "    }\n",
              "\n",
              "    .dataframe tbody tr th {\n",
              "        vertical-align: top;\n",
              "    }\n",
              "\n",
              "    .dataframe thead th {\n",
              "        text-align: right;\n",
              "    }\n",
              "</style>\n",
              "<table border=\"1\" class=\"dataframe\">\n",
              "  <thead>\n",
              "    <tr style=\"text-align: right;\">\n",
              "      <th></th>\n",
              "      <th>high_risk_per_ICU_bed</th>\n",
              "      <th>high_risk_per_hospital</th>\n",
              "      <th>icu_beds</th>\n",
              "      <th>hospitals</th>\n",
              "      <th>total_at_risk</th>\n",
              "    </tr>\n",
              "  </thead>\n",
              "  <tbody>\n",
              "    <tr>\n",
              "      <th>count</th>\n",
              "      <td>135.000000</td>\n",
              "      <td>135.000000</td>\n",
              "      <td>135.000000</td>\n",
              "      <td>135.000000</td>\n",
              "      <td>1.360000e+02</td>\n",
              "    </tr>\n",
              "    <tr>\n",
              "      <th>mean</th>\n",
              "      <td>1947.356729</td>\n",
              "      <td>43787.067561</td>\n",
              "      <td>360.185185</td>\n",
              "      <td>13.762963</td>\n",
              "      <td>6.671887e+05</td>\n",
              "    </tr>\n",
              "    <tr>\n",
              "      <th>std</th>\n",
              "      <td>720.661896</td>\n",
              "      <td>17992.274197</td>\n",
              "      <td>450.580508</td>\n",
              "      <td>15.377929</td>\n",
              "      <td>8.847868e+05</td>\n",
              "    </tr>\n",
              "    <tr>\n",
              "      <th>min</th>\n",
              "      <td>413.667706</td>\n",
              "      <td>6770.190000</td>\n",
              "      <td>8.000000</td>\n",
              "      <td>1.000000</td>\n",
              "      <td>1.794153e+04</td>\n",
              "    </tr>\n",
              "    <tr>\n",
              "      <th>25%</th>\n",
              "      <td>1487.781317</td>\n",
              "      <td>31005.455625</td>\n",
              "      <td>89.500000</td>\n",
              "      <td>5.000000</td>\n",
              "      <td>1.587478e+05</td>\n",
              "    </tr>\n",
              "    <tr>\n",
              "      <th>50%</th>\n",
              "      <td>1923.676063</td>\n",
              "      <td>42460.360000</td>\n",
              "      <td>221.000000</td>\n",
              "      <td>9.000000</td>\n",
              "      <td>3.960815e+05</td>\n",
              "    </tr>\n",
              "    <tr>\n",
              "      <th>75%</th>\n",
              "      <td>2321.085003</td>\n",
              "      <td>56583.347585</td>\n",
              "      <td>489.500000</td>\n",
              "      <td>18.000000</td>\n",
              "      <td>9.327925e+05</td>\n",
              "    </tr>\n",
              "    <tr>\n",
              "      <th>max</th>\n",
              "      <td>4489.848750</td>\n",
              "      <td>91771.345830</td>\n",
              "      <td>2777.000000</td>\n",
              "      <td>100.000000</td>\n",
              "      <td>6.165102e+06</td>\n",
              "    </tr>\n",
              "  </tbody>\n",
              "</table>\n",
              "</div>"
            ],
            "text/plain": [
              "       high_risk_per_ICU_bed  high_risk_per_hospital     icu_beds   hospitals  \\\n",
              "count             135.000000              135.000000   135.000000  135.000000   \n",
              "mean             1947.356729            43787.067561   360.185185   13.762963   \n",
              "std               720.661896            17992.274197   450.580508   15.377929   \n",
              "min               413.667706             6770.190000     8.000000    1.000000   \n",
              "25%              1487.781317            31005.455625    89.500000    5.000000   \n",
              "50%              1923.676063            42460.360000   221.000000    9.000000   \n",
              "75%              2321.085003            56583.347585   489.500000   18.000000   \n",
              "max              4489.848750            91771.345830  2777.000000  100.000000   \n",
              "\n",
              "       total_at_risk  \n",
              "count   1.360000e+02  \n",
              "mean    6.671887e+05  \n",
              "std     8.847868e+05  \n",
              "min     1.794153e+04  \n",
              "25%     1.587478e+05  \n",
              "50%     3.960815e+05  \n",
              "75%     9.327925e+05  \n",
              "max     6.165102e+06  "
            ]
          },
          "metadata": {},
          "execution_count": 52
        }
      ]
    },
    {
      "cell_type": "markdown",
      "metadata": {
        "id": "_JoVG8-Z3cyL"
      },
      "source": [
        "Traduzindo as colunas"
      ]
    },
    {
      "cell_type": "code",
      "metadata": {
        "colab": {
          "base_uri": "https://localhost:8080/"
        },
        "id": "5As74J2a3iys",
        "outputId": "f9d1a7f4-af30-452c-d99e-faa9a5f0ba58"
      },
      "source": [
        "df = dados_covid.copy()\n",
        "df.shape"
      ],
      "execution_count": null,
      "outputs": [
        {
          "output_type": "execute_result",
          "data": {
            "text/plain": [
              "(136, 7)"
            ]
          },
          "metadata": {},
          "execution_count": 53
        }
      ]
    },
    {
      "cell_type": "code",
      "metadata": {
        "colab": {
          "base_uri": "https://localhost:8080/"
        },
        "id": "dGnc9iGY3ulo",
        "outputId": "435f576a-dd92-4c82-dfa8-b8eab10685ee"
      },
      "source": [
        "renamed_df = df.rename(\n",
        "    columns={\"total_percent_at_risk\": \"Percentul total de risco\", \"high_risk_per_ICU_bed\": \"Alto_risco_por_ICU_bed\", \"high_risk_per_hospital\": \"Alto_risco_por_hospital\"\n",
        "    , \"hospitals\": \"hospitais\", \"total_at_risk\": \"Totais em risco\" }\n",
        " )\n",
        "renamed_df.info()"
      ],
      "execution_count": null,
      "outputs": [
        {
          "output_type": "stream",
          "name": "stdout",
          "text": [
            "<class 'pandas.core.frame.DataFrame'>\n",
            "RangeIndex: 136 entries, 0 to 135\n",
            "Data columns (total 7 columns):\n",
            " #   Column                    Non-Null Count  Dtype  \n",
            "---  ------                    --------------  -----  \n",
            " 0   MMSA                      136 non-null    object \n",
            " 1   Percentul total de risco  136 non-null    object \n",
            " 2   Alto_risco_por_ICU_bed    135 non-null    float64\n",
            " 3   Alto_risco_por_hospital   135 non-null    float64\n",
            " 4   icu_beds                  135 non-null    float64\n",
            " 5   hospitais                 135 non-null    float64\n",
            " 6   Totais em risco           136 non-null    float64\n",
            "dtypes: float64(5), object(2)\n",
            "memory usage: 7.6+ KB\n"
          ]
        }
      ]
    },
    {
      "cell_type": "markdown",
      "metadata": {
        "id": "X6gATeCI5CYV"
      },
      "source": []
    },
    {
      "cell_type": "code",
      "metadata": {
        "colab": {
          "base_uri": "https://localhost:8080/",
          "height": 311
        },
        "id": "Ge9xWJTK5Dd6",
        "outputId": "24ce022c-43e1-43ca-c594-1728032d39fd"
      },
      "source": [
        "dados_covid[\"total_percent_at_risk\"].value_counts().head(10).plot(kind=\"bar\")"
      ],
      "execution_count": null,
      "outputs": [
        {
          "output_type": "execute_result",
          "data": {
            "text/plain": [
              "<matplotlib.axes._subplots.AxesSubplot at 0x7fb8f5e33510>"
            ]
          },
          "metadata": {},
          "execution_count": 55
        },
        {
          "output_type": "display_data",
          "data": {
            "image/png": "[encoded data removed]",
            "text/plain": [
              "<Figure size 432x288 with 1 Axes>"
            ]
          },
          "metadata": {
            "needs_background": "light"
          }
        }
      ]
    }
  ]
}